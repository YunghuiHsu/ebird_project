{
 "cells": [
  {
   "cell_type": "code",
   "execution_count": 168,
   "id": "1bd2ea3f-e72d-4c39-91ed-de003fdafed4",
   "metadata": {},
   "outputs": [
    {
     "name": "stdout",
     "output_type": "stream",
     "text": [
      "1.22.2\n",
      "1.4.1\n",
      "1.10.2+cu113\n"
     ]
    }
   ],
   "source": [
    "import os\n",
    "import time\n",
    "import datetime\n",
    "import json\n",
    "import numpy as np\n",
    "import pandas as pd\n",
    "from pathlib import Path\n",
    "\n",
    "from sklearn import metrics\n",
    "from PIL import Image\n",
    "import seaborn as sns\n",
    "import matplotlib.pyplot as plt\n",
    "%matplotlib inline\n",
    "\n",
    "import torch\n",
    "from torch import nn\n",
    "\n",
    "import torch.nn.functional as F\n",
    "from torch.autograd import Variable\n",
    "import torchvision.transforms as transforms\n",
    "import torchvision.datasets as datasets\n",
    "import torchvision.utils as vutils\n",
    "\n",
    "from util.pos_embed import interpolate_pos_embed\n",
    "import models_mae\n",
    "import models_vit\n",
    "\n",
    "print(np.__version__)\n",
    "print(pd.__version__)\n",
    "print(torch.__version__)\n",
    "\n",
    "path_meta = Path('meta')\n",
    "path_meta.mkdir(exist_ok=True, parents=True)\n",
    "path_embeddings = Path('embedding')\n",
    "path_embeddings.mkdir(exist_ok=True, parents=True)"
   ]
  },
  {
   "cell_type": "markdown",
   "id": "92461849-fdcf-428b-af9a-51e355b8ca6a",
   "metadata": {},
   "source": [
    "### Purpose 目的\n",
    "Identify the key features/dimensions that the model uses to make determinations in the classification task  \n",
    "\n",
    "找出模型在分類任務中，用來做判定的關鍵特徵/維度\n",
    "\n",
    "### How to find key features 如何找出關鍵特徵\n",
    "- 將全世界的鳥類透過模型編碼(壓縮)成形狀為(1, dimension)的高維向量\n",
    "    - 這個高維向量又稱為 embedding(representation, latent vector)\n",
    "    - 在模型中以n=dimension組數值，編碼、描述鳥類的型態\n",
    "    - 在ViT模型中， 圖塊嵌入(patch embedding)匯聚圖像資訊為類別表徵(cls embedding)，並使用cls embedding作為下游的分類任務使用 \n",
    "\n",
    "- 借用<font color=lightgreen size=4> GradCam</font>概念，使用各類別(y)反向求導，求出對該類別有較大反應的導數所在維度(位於embedding的哪些維度上)\n",
    "\n",
    "- 分類器\n",
    "    - inputs: \n",
    "        - embedding。這裡使用cls embedding\n",
    "    - outputs: \n",
    "        - classes。預測的類別\n",
    "    - classifier:\n",
    "        - ~~dense layer(full connected layers)*2~~\n",
    "        - ViT內，在transformer模塊與外用來產生分類預測間是線性連結層，可以直接取出使用\n",
    "            - transformer模塊外的最後兩層   \n",
    "                - (norm): LayerNorm((768,), eps=1e-06, elementwise_affine=True)\n",
    "                - [x] (head): Linear(in_features=768, out_features=1486, bias=True)\n",
    "                <br><table align=left><tr><td bgcolor=green >注意!! head後沒有經過活化層，因此導數會得到負值</td></tr></table><br><br>\n",
    "\n",
    "            - 使用目前下游分類任務表現最好的iNatFT encoder\n",
    "                - (架構是使用eBirdPT NPon, cls_token的MAE encoder)  \n",
    "\n",
    "- 關鍵特徵的決定採用投票方式\n",
    "    - 採用iNatFT encoder的head(Linear layer)作為分類器(對應\"種\"層級的分類任務)\n",
    "    - 使用GradeCam方法取得各個物種為單位的grad數值\n",
    "    - 取得以\"科\"為單位的導數數值\n",
    "        - 計算以科為單位的 mean/ medium    \n",
    "\n",
    "\n"
   ]
  },
  {
   "cell_type": "code",
   "execution_count": null,
   "id": "11102faf-f4aa-460a-baf6-948d2bf3fad0",
   "metadata": {},
   "outputs": [],
   "source": []
  },
  {
   "cell_type": "markdown",
   "id": "2a23d73b-5a3d-49c0-ae1f-f6788ab46e3d",
   "metadata": {},
   "source": [
    "# Prepare data"
   ]
  },
  {
   "cell_type": "code",
   "execution_count": 2,
   "id": "9e7e2c0d-f790-4aef-99ed-165feb578121",
   "metadata": {},
   "outputs": [
    {
     "name": "stdout",
     "output_type": "stream",
     "text": [
      "Encoder  : eBirdFT\n",
      "Embedding version : NPon(Pretrain)_eBirdFTcls(Encoder)_eBirdTop100(Data)\n"
     ]
    }
   ],
   "source": [
    "encoder_version='eBirdFT' # 'iNatFT', 'eBirdFT' or 'eBirdPT',\n",
    "norm_pixel = 'on'\n",
    "\n",
    "global_pool = False\n",
    "token = 'cls' if global_pool==False else 'gap'\n",
    "data_src = 'eBirdTop100' #  'iNat', 'eBird', 'eBirdTop100'\n",
    "\n",
    "path_model = Path('output_dir')\n",
    "\n",
    "print(f'Encoder  : {encoder_version}')\n",
    "if encoder_version=='iNatFT':\n",
    "    ck = path_model/'ebird_NPon_FT_cls_vit_base_checkpoint-99.pth'   #　iNaturalist finetuned MAE\n",
    "    n_classes = 1486\n",
    "elif encoder_version=='eBirdPT':\n",
    "    ck = path_model/'ebird_LP_cls_2fc_vit_base_checkpoint-89.pth'   #　Ebird pretrained MAE\n",
    "    n_classes =1486\n",
    "elif encoder_version=='eBirdFT':\n",
    "    ck = path_model/'ebird_NPon_eBirdFT_cls11186_vit_base_checkpoint-49.pth'  #　eBird finetuned MAE\n",
    "    n_classes = 11186\n",
    "\n",
    "v_embedding = f'NP{norm_pixel}(Pretrain)_{encoder_version}{token}(Encoder)_{data_src}(Data)'\n",
    "print(f'Embedding version : {v_embedding}')\n",
    "\n",
    " "
   ]
  },
  {
   "cell_type": "code",
   "execution_count": 3,
   "id": "07eacb57-31f9-4700-ba95-2dce47116fe7",
   "metadata": {},
   "outputs": [
    {
     "name": "stdout",
     "output_type": "stream",
     "text": [
      "CPU times: user 4 µs, sys: 7 µs, total: 11 µs\n",
      "Wall time: 22.6 µs\n"
     ]
    }
   ],
   "source": [
    "%%time\n",
    "\n",
    "data_path = '../../shared/iNaturalist_2021'\n",
    "\n",
    "if data_src == 'eBird':\n",
    "    val_data = 'val_ebird'\n",
    "    meta_data =  '../../shared/iNaturalist_2021/meta/val_ebird.csv'\n",
    "elif data_src == 'iNat':\n",
    "    val_data = 'val'\n",
    "    meta_data =  '../../shared/iNaturalist_2021/meta/val.csv'\n",
    "elif  data_src == 'eBirdTop100':\n",
    "    data_path = '../../shared/eBird/download_ebird/downloaded'\n",
    "    val_data = 'jpg_top100'\n",
    "    meta_data =  '../../shared/eBird/download_ebird/meta/jpg_top100_meta5.csv'\n",
    " "
   ]
  },
  {
   "cell_type": "markdown",
   "id": "455a44a3-600c-4311-8094-02ffc5531416",
   "metadata": {},
   "source": [
    "### Load meta"
   ]
  },
  {
   "cell_type": "code",
   "execution_count": 4,
   "id": "86f8fbb7-6940-459b-a7d2-d2e9e86161a4",
   "metadata": {},
   "outputs": [],
   "source": [
    "col_obj2cat = ['Format', 'Accessory', 'Asset_State', 'isInternalUser', 'mediaDownloadUrl', 'Playback', 'Microphone', 'Recorder', 'Taxon_Category', \n",
    "               'Age/Sex', 'Asset_Tags', 'Order', 'Behaviors', 'Country', 'Parent_Dir', 'Family', 'Background_Species', 'Genus', 'State', 'County']\n",
    "col_type = {col_: type_ for col_, type_ in  zip (col_obj2cat, ['category']*len(col_obj2cat))}\n"
   ]
  },
  {
   "cell_type": "code",
   "execution_count": 5,
   "id": "9c550aa1-5d84-4326-b642-5f1fff6dae12",
   "metadata": {},
   "outputs": [
    {
     "name": "stdout",
     "output_type": "stream",
     "text": [
      "# of Order : 41\n",
      "# of Family : 249\n",
      "# of Genus: 2295\n",
      "Index(['Label', 'ML_Catalog_Number', 'Dir_FName', 'Order', 'Family', 'Genus',\n",
      "       'SCI_NAME_2021', 'Sci_Name', 'Parent_Species', 'Taxon_Category',\n",
      "       'Country', 'Latitude', 'Longitude', 'Year', 'Month', 'Day',\n",
      "       'Average_Community_Rating', 'Number_of_Ratings'],\n",
      "      dtype='object')\n",
      "CPU times: user 8.52 s, sys: 984 ms, total: 9.51 s\n",
      "Wall time: 9.51 s\n"
     ]
    }
   ],
   "source": [
    "%%time\n",
    "assert data_src == 'eBirdTop100'\n",
    "\n",
    "meta_data =  '../../shared/eBird/download_ebird/meta/jpg_top100_meta5.csv'\n",
    "df_meta =  pd.read_csv(meta_data, index_col=0, dtype=col_type)\n",
    "\n",
    "col_label = ['Label']    \n",
    "col_basic = ['ML_Catalog_Number', 'Dir_FName']\n",
    "col_file = ['Dir_FName', 'Parent_Dir', 'Sci_N']\n",
    "col_taxon = ['Order', 'Family', 'Genus', 'SCI_NAME_2021', 'Sci_Name', 'Parent_Species', 'Taxon_Category']\n",
    "col_geo = ['Country', 'Latitude', 'Longitude']\n",
    "col_time = ['Year', 'Month', 'Day']\n",
    "col_rating = ['Average_Community_Rating','Number_of_Ratings']\n",
    "col_sel = col_label + col_basic + col_taxon + col_geo + col_time + col_rating\n",
    "df_meta = df_meta[col_sel].copy()\n",
    "\n",
    "assert df_meta.Label.dtype == 'int64'\n",
    "\n",
    "print(f'# of Order : {df_meta.Order.nunique()}')\n",
    "print(f'# of Family : {df_meta.Family.nunique()}')\n",
    "print(f'# of Genus: {df_meta.Genus.nunique()}')\n",
    "\n",
    "print(df_meta.columns)\n"
   ]
  },
  {
   "cell_type": "code",
   "execution_count": 6,
   "id": "5c76b6fb-031a-45e5-b4f6-2298c984e07e",
   "metadata": {},
   "outputs": [
    {
     "name": "stdout",
     "output_type": "stream",
     "text": [
      "896555\n"
     ]
    }
   ],
   "source": [
    "   \n",
    "# val_data = 'ebird_finetune/train'\n",
    "# imgs_path = Path(data_path, val_data)\n",
    "# # imgs_path = Path('../../shared/iNaturalist_2021/val_ebird')\n",
    "# print(imgs_path)\n",
    "# files_path_ = [f for f in imgs_path.glob('**/*') if f.suffix.lower() in ['.jpg', '.jpeg', '.png']]\n",
    "\n",
    "# # exlude .ipynb files\n",
    "# files_path_ = [f for f in files_path_ if not f.name.startswith('.')] \n",
    "# files_path_.sort()\n",
    "\n",
    "# print(f'Meta data :  \"{Path(meta_data).name}\"')\n",
    "\n",
    "files_path_  = list(data_path + '/' +  val_data + '/' + df_meta.Dir_FName\t+ '.jpg')\n",
    "labels = df_meta.Label.values\n",
    "\n",
    "print(len(files_path_ ))\n",
    "assert len(files_path_) == len(labels)\n",
    "assert  df_meta.Label.dtype == 'int64'"
   ]
  },
  {
   "cell_type": "markdown",
   "id": "7c7ade1a-954c-4264-803d-9d8e0ca5ef46",
   "metadata": {},
   "source": [
    "# Training a simple classification model\n",
    "- detal training process in `train_family_classifier.ipynb`"
   ]
  },
  {
   "cell_type": "markdown",
   "id": "726071d1-d4d9-41b7-9de7-c66f70c77d75",
   "metadata": {},
   "source": [
    "## Load Linear Classifier "
   ]
  },
  {
   "cell_type": "code",
   "execution_count": 32,
   "id": "861ccac4-a5fc-4b82-9b7f-37eea53eb865",
   "metadata": {},
   "outputs": [
    {
     "data": {
      "text/plain": [
       "Family_Predictor(\n",
       "  (family_Predictor): Sequential(\n",
       "    (0): Linear(in_features=1536, out_features=256, bias=True)\n",
       "    (1): LeakyReLU(negative_slope=0.02, inplace=True)\n",
       "    (2): Linear(in_features=256, out_features=249, bias=True)\n",
       "  )\n",
       ")"
      ]
     },
     "execution_count": 32,
     "metadata": {},
     "output_type": "execute_result"
    }
   ],
   "source": [
    "# Define model\n",
    " \n",
    "n_classes = 249\n",
    "n_neurons = 256\n",
    "dim=768\n",
    "\n",
    "class Family_Predictor(nn.Module):\n",
    "    def __init__(self, in_features=dim*2 , n_neurons=n_neurons, n_classes=n_classes ):\n",
    "        super().__init__()\n",
    "#         super().__init__()\n",
    "        self.family_Predictor = nn.Sequential(\n",
    "            nn.Linear(in_features, n_neurons),\n",
    "            nn.LeakyReLU(negative_slope=0.02, inplace=True),\n",
    "            nn.Linear(n_neurons, n_classes),\n",
    "        )\n",
    "\n",
    "    def forward(self, x):\n",
    "        pre = self.family_Predictor(x)\n",
    "        return pre \n",
    "    \n",
    "model = Family_Predictor(in_features=dim*2 , n_neurons=n_neurons, n_classes=n_classes) \n",
    "\n",
    "device = torch.device(\"cuda\" if torch.cuda.is_available() else \"cpu\")\n"
   ]
  },
  {
   "cell_type": "code",
   "execution_count": 40,
   "id": "78fcd64f-1cf3-4f08-93e8-34b249853c1f",
   "metadata": {},
   "outputs": [
    {
     "name": "stdout",
     "output_type": "stream",
     "text": [
      "best__metric : 95.6067\n",
      "Family_Predictor_Batch500.pth loaded!\n"
     ]
    },
    {
     "data": {
      "text/plain": [
       "Family_Predictor(\n",
       "  (family_Predictor): Sequential(\n",
       "    (0): Linear(in_features=1536, out_features=256, bias=True)\n",
       "    (1): LeakyReLU(negative_slope=0.02, inplace=True)\n",
       "    (2): Linear(in_features=256, out_features=249, bias=True)\n",
       "  )\n",
       ")"
      ]
     },
     "execution_count": 40,
     "metadata": {},
     "output_type": "execute_result"
    }
   ],
   "source": [
    "\n",
    "model_name = f'Family_Predictor_Batch500'\n",
    "path_model = Path('meta/family_Predictor')\n",
    "path = path_model/f'{model_name}.pth'\n",
    " \n",
    "\n",
    "# load_checkpoint(model, path, optimizer=None):\n",
    "checkpoint = torch.load(path)\n",
    "model.load_state_dict(checkpoint['model_state_dict'])\n",
    "epoch_ = checkpoint['epoch']\n",
    "best_metric_ = checkpoint['best_metric']\n",
    "    \n",
    "print(f'best__metric : {best_metric_:.4f}')\n",
    "print(f'{model_name}.pth loaded!')\n",
    "# model.to(device)\n",
    "model.to(device)"
   ]
  },
  {
   "cell_type": "markdown",
   "id": "ea7cfa37-3f9c-441c-ba24-2b2a2e1975d6",
   "metadata": {},
   "source": [
    "# Embedding 維度堆疊轉正\n"
   ]
  },
  {
   "cell_type": "markdown",
   "id": "c6bc2eed-dae6-4559-b5ba-bafb573c8ff5",
   "metadata": {},
   "source": [
    "## Get the gradient vectors(Degree of Concern about Features) \n",
    "找出分類器中，分類結果對於各維度的關注度(各類別反向傳播後的導數)\n",
    "- 關注度\n",
    "    - 模型根據預測結果反向傳播回去後，特徵(embedding)的導數。\n",
    "    - 代表模型對該類別預測時，是根據那些特徵作為判斷依據\n",
    "    - 有較大的數值(關注度/導數)表示，該權重位置(維度)對於分類器預測該類別是重要的\n",
    "- 實作`get_grad()函式`\n",
    "- 從線性分類器反向傳播中取得各類別對應的導數\n",
    "- 以物種為單位"
   ]
  },
  {
   "cell_type": "markdown",
   "id": "d2a3bb4a-28e0-4b24-89f7-e59110a7aca8",
   "metadata": {},
   "source": [
    "###  Implement the `get_grad()` function"
   ]
  },
  {
   "cell_type": "code",
   "execution_count": 50,
   "id": "441ddd98-b622-4cd8-808d-61084ded85cb",
   "metadata": {},
   "outputs": [],
   "source": [
    "def get_grad(inputs:np.array, model, labels:np.array=None, n_classes:int=n_classes, **kwards)-> (torch.tensor, np.array):\n",
    "    '''\n",
    "    inputs : latent vectors /embeddings / features.  shape : (n_batch, dim)\n",
    "    labels : labels of inputs. (Taxon unit such as : Species, Family, etc.) shape : (n_batch, n_classe)\n",
    "    model(classifier) : simple fc layer\n",
    "    outputs : gradients of inputs, label\n",
    "    ''' \n",
    "    model.eval()\n",
    "    model.zero_grad()\n",
    "    \n",
    "    # Set required gradients\n",
    "    # features = inputs.clone().detach().requires_grad_(True)\n",
    "    features = Variable(torch.tensor(inputs).to(device)  , requires_grad=True)\n",
    "    \n",
    "    pred = model(features)  # (n_batch, n_classe)\n",
    "    \n",
    "    # Whether to use the ground truth label, or predicted by the classifier\n",
    "    if labels is None:                                \n",
    "        labels = np.argmax(pred.detach().numpy(), axis=1)  # return (n_batch, n_classes)\n",
    "\n",
    "    # one_hot encoding labels \n",
    "    one_hot = F.one_hot(torch.tensor(labels) , num_classes=n_classes).to(device) # (n_batch, n_classe)\n",
    "    \n",
    "    # Elementwise multiply of two matrix/vectors to get scalar, then do backpropogation\n",
    "    # torch.mul(pred, one_hot).sum().backward() is same as pred.backward(one_hot) \n",
    "    pred.backward(one_hot)                             \n",
    "    \n",
    "    # grads of embeddings. shape:(n_batch, dim). \n",
    "    inputs_grad_ = features.grad.clone().detach()\n",
    "    \n",
    "    return inputs_grad_, labels\n"
   ]
  },
  {
   "cell_type": "code",
   "execution_count": 27,
   "id": "3c74c1d8-1a5f-4146-81ac-c9e0f3b0a82d",
   "metadata": {},
   "outputs": [],
   "source": [
    "# embeddings = np.load(path_embeddings/file_)['embedding']\n",
    "# print(embeddings.shape)"
   ]
  },
  {
   "cell_type": "markdown",
   "id": "f02974ed-8aa4-4767-9250-6c893d8bf817",
   "metadata": {},
   "source": [
    "### Get gradients from embeddings"
   ]
  },
  {
   "cell_type": "code",
   "execution_count": 28,
   "id": "8043481c-c4d9-49d3-b1e2-c9d24ad05de1",
   "metadata": {},
   "outputs": [
    {
     "name": "stdout",
     "output_type": "stream",
     "text": [
      "(896555, 768)\n",
      "CPU times: user 14.7 s, sys: 1.12 s, total: 15.8 s\n",
      "Wall time: 15.9 s\n"
     ]
    }
   ],
   "source": [
    "%%time\n",
    "file_ = f'embeddings_{v_embedding}.npz'\n",
    "\n",
    "# print(f'{file_}')\n",
    "# np.savez_compressed(path_embeddings/file_, embedding=embeddings.cpu().numpy() )\n",
    "# print(f'{file_} saved')\n",
    "# np.save(path_embeddings.joinpath(file_) , embeddings)b\n",
    "embeddings = np.load(path_embeddings/file_)['embedding']\n",
    "print(embeddings.shape)\n",
    "\n"
   ]
  },
  {
   "cell_type": "markdown",
   "id": "c025a9a8-8b57-40bc-8c6d-a5507baab406",
   "metadata": {},
   "source": [
    "##### stack the dimensions to turn negative values into positive values"
   ]
  },
  {
   "cell_type": "code",
   "execution_count": 12,
   "id": "1130c5d9-de54-45e1-9b43-e3f83070c36e",
   "metadata": {},
   "outputs": [
    {
     "name": "stdout",
     "output_type": "stream",
     "text": [
      "(896555, 1536)\n",
      "1536\n"
     ]
    }
   ],
   "source": [
    "f_pos = np.where(embeddings > 0, embeddings, 0)               # 保留正值，將其他維(負值)設為0 \n",
    "f_neg = np.abs(np.where(embeddings < 0, embeddings, 0))       # 保留負值，將其他維(正值)設為0，最後取絕對值  \n",
    "embeddings_stacked = np.concatenate((f_pos, f_neg), axis=1)   # 將原本的n為堆疊為n*2維 shape = (896195, 1536)\n",
    "print(embeddings_stacked.shape)\n",
    "\n",
    "_, dim_stacked = embeddings_stacked.shape\n",
    "print(dim_stacked)"
   ]
  },
  {
   "cell_type": "code",
   "execution_count": 18,
   "id": "98354496-bb37-41ce-b392-de2a38a21bd5",
   "metadata": {},
   "outputs": [],
   "source": [
    "# filter label > 0\n",
    "mask_label_positive = df_meta.Label >= 0\n",
    "# embeddings = embeddings_ori[mask_label_positive]\n",
    "# print(embeddings.shape)"
   ]
  },
  {
   "cell_type": "code",
   "execution_count": 23,
   "id": "f12cbf49-4153-42c5-b19d-e21d69558d3f",
   "metadata": {},
   "outputs": [
    {
     "name": "stdout",
     "output_type": "stream",
     "text": [
      "249\n",
      "labels  : (896195,)\n",
      "n_classes  : 249\n"
     ]
    }
   ],
   "source": [
    "family_list = list(df_meta.Family.dropna().unique())\n",
    "family_list.sort()\n",
    "print(len(family_list))\n",
    "\n",
    "fam2digit = dict(zip(family_list, range(len(family_list))))\n",
    "fam2digit.items()\n",
    "\n",
    "labels = df_meta[mask_label_positive].Family.map(fam2digit).values  # 科名編碼\n",
    "print(f'labels  : {labels.shape}')\n",
    "\n",
    "n_classes = len(fam2digit)\n",
    "print(f'n_classes  : {n_classes}')"
   ]
  },
  {
   "cell_type": "code",
   "execution_count": 57,
   "id": "318458b6-57a1-4f95-8b98-f8b597c1ee26",
   "metadata": {},
   "outputs": [
    {
     "name": "stdout",
     "output_type": "stream",
     "text": [
      "Progress: 897, 100.00% | Time: 0:18:42. | Grad_shape: torch.Size([896195, 1536]).\r"
     ]
    }
   ],
   "source": [
    "# # %%time\n",
    "# s = 0\n",
    "# slice_ = 1000\n",
    "# # e = s + interval \n",
    "# n_iter = int(np.ceil(embeddings_stacked[mask_label_positive].shape[0] / slice_))\n",
    "\n",
    "# labels_pred = [] \n",
    "# start_time = time.time()\n",
    "# for i in range(n_iter):\n",
    "#     grads_, labels_ = get_grad(embeddings_stacked[mask_label_positive][s : s + slice_], \n",
    "#                                model, \n",
    "#                                labels=labels[s : s + slice_], \n",
    "#                                n_classes=n_classes\n",
    "#                               )\n",
    "\n",
    "#     grads = grads_ if i==0 else torch.concat([grads, grads_])\n",
    "#     labels_pred += list(labels_)\n",
    "#     s += slice_\n",
    "\n",
    "#     passing_time = str(datetime.timedelta(seconds=int(time.time() - start_time )))\n",
    "#     info = f'Progress:{i+1:4,d}, {100*(i+1)/n_iter:6.2f}% ' \n",
    "#     info += f'| Time: {passing_time}. | Grad_shape: {grads.shape}.' \n",
    "#     print(info, end='\\r')\n",
    "#     # break\n"
   ]
  },
  {
   "cell_type": "code",
   "execution_count": 58,
   "id": "98394cb3-b504-454c-979a-e477f659acf6",
   "metadata": {},
   "outputs": [
    {
     "name": "stdout",
     "output_type": "stream",
     "text": [
      "grad(withLabels)_eBirdPT_NPon_cls(Pretrain)_eBirdFT(Finetune)_eBirdTop100(data)_Family_Predictor_Batch500 saved\n",
      "(896195, 1536)\n"
     ]
    }
   ],
   "source": [
    "file_grad = f'grad(withLabels)_eBirdPT_NP{norm_pixel}_{token}(Pretrain)_{encoder_version}(Finetune)_{data_src}(data)_{model_name}'\n",
    "\n",
    "# np.savez_compressed(path_embeddings/f'{file_grad}.npz', gradients=grads.cpu().numpy())\n",
    "# print(f'{file_grad} saved')\n",
    "\n",
    "grads = np.load(path_embeddings/f'{file_grad}.npz')['gradients']\n",
    "print(grads.shape)"
   ]
  },
  {
   "cell_type": "code",
   "execution_count": 60,
   "id": "cc374901-10ef-4615-a715-ce656c9e64dc",
   "metadata": {},
   "outputs": [
    {
     "data": {
      "text/plain": [
       "''"
      ]
     },
     "execution_count": 60,
     "metadata": {},
     "output_type": "execute_result"
    },
    {
     "data": {
      "image/png": "[encoded data removed]",
      "text/plain": [
       "<Figure size 432x288 with 1 Axes>"
      ]
     },
     "metadata": {
      "needs_background": "light"
     },
     "output_type": "display_data"
    }
   ],
   "source": [
    "fig, ax = plt.subplots(figsize =(6,4) )\n",
    "ax.hist(grads.reshape(-1,1), bins=500)\n",
    "title = f'grads Distribution\\n{encoder_version}(Finetune)_{data_src}(data)'\n",
    "\n",
    "ax.grid(True)\n",
    "# ax.set_yscale('log')\n",
    "ax.set(title=title,  ylabel='Frequency')\n",
    ";"
   ]
  },
  {
   "cell_type": "code",
   "execution_count": 61,
   "id": "3c589adb-e8ef-49a6-a004-349baa7fbeee",
   "metadata": {},
   "outputs": [
    {
     "name": "stdout",
     "output_type": "stream",
     "text": [
      "3879\n"
     ]
    },
    {
     "data": {
      "image/png": "[encoded data removed]",
      "text/plain": [
       "<Figure size 1440x108 with 1 Axes>"
      ]
     },
     "metadata": {
      "needs_background": "light"
     },
     "output_type": "display_data"
    },
    {
     "data": {
      "image/png": "[encoded data removed]",
      "text/plain": [
       "<Figure size 1440x108 with 1 Axes>"
      ]
     },
     "metadata": {
      "needs_background": "light"
     },
     "output_type": "display_data"
    },
    {
     "data": {
      "image/png": "[encoded data removed]",
      "text/plain": [
       "<Figure size 1440x108 with 1 Axes>"
      ]
     },
     "metadata": {
      "needs_background": "light"
     },
     "output_type": "display_data"
    }
   ],
   "source": [
    "ge_ = \"Accipiter\"\n",
    "idx_ = df_meta[mask_label_positive].query('Genus == @ge_').index\n",
    "\n",
    "\n",
    "# idx_ = df_meta[mask_label_positive].query('Label == 2').index\n",
    "print(idx_.size)\n",
    "\n",
    "figsize=(20, 1.5)\n",
    "s =0 ; interval=100\n",
    "n, dim = grads.shape\n",
    "n_iter = int(dim/100)+1 \n",
    "for i in range(n_iter):\n",
    "    if i ==3: \n",
    "        break \n",
    "    pd.DataFrame(grads[idx_, s:s+interval]).plot.box(title=f'Dim_{s}:{s+interval}', figsize=figsize);\n",
    "    s += interval\n",
    "    \n"
   ]
  },
  {
   "cell_type": "code",
   "execution_count": 62,
   "id": "7a706a18-f26a-451e-87eb-e4aa86fb3144",
   "metadata": {},
   "outputs": [
    {
     "name": "stdout",
     "output_type": "stream",
     "text": [
      "CPU times: user 8min 53s, sys: 4min 2s, total: 12min 56s\n",
      "Wall time: 34.4 s\n"
     ]
    },
    {
     "data": {
      "text/plain": [
       "''"
      ]
     },
     "execution_count": 62,
     "metadata": {},
     "output_type": "execute_result"
    },
    {
     "data": {
      "image/png": "[encoded data removed]",
      "text/plain": [
       "<Figure size 432x288 with 2 Axes>"
      ]
     },
     "metadata": {
      "needs_background": "light"
     },
     "output_type": "display_data"
    }
   ],
   "source": [
    "%%time\n",
    "\n",
    "corr_matrix = np.corrcoef(np.transpose(grads))\n",
    "\n",
    "# 取矩陣下半三角形\n",
    "mask =  np.triu(np.ones_like(corr_matrix, dtype=bool))\n",
    "\n",
    "title = f'CorrMatrix_Of_Embedding\\n{file_grad}'\n",
    "fig, ax = plt.subplots(figsize=(6, 4) )\n",
    "ax.set_title(title)\n",
    "sns.heatmap(corr_matrix, vmax=1, vmin=-1, center=0, square=True, \n",
    "            mask=mask,\n",
    "            cmap='vlag', ax=ax)\n",
    "# fig.savefig(f'embedding/{title}.jpg', bbox_inches='tight',)\n",
    ";"
   ]
  },
  {
   "cell_type": "code",
   "execution_count": 63,
   "id": "f19759ab-3bb7-44e0-a286-1229017c2a9d",
   "metadata": {},
   "outputs": [
    {
     "name": "stderr",
     "output_type": "stream",
     "text": [
      "/home/esslab/anaconda3/envs/mae/lib/python3.9/site-packages/pandas/plotting/_matplotlib/core.py:568: UserWarning: Attempted to set non-positive bottom ylim on a log-scaled axis.\n",
      "Invalid limit will be ignored.\n",
      "  ax.set_ylim(self.ylim)\n"
     ]
    },
    {
     "data": {
      "text/plain": [
       "''"
      ]
     },
     "execution_count": 63,
     "metadata": {},
     "output_type": "execute_result"
    },
    {
     "data": {
      "image/png": "[encoded data removed]",
      "text/plain": [
       "<Figure size 432x288 with 1 Axes>"
      ]
     },
     "metadata": {
      "needs_background": "light"
     },
     "output_type": "display_data"
    }
   ],
   "source": [
    "xlim=(-1,1)\n",
    "ylim=(0,1e6)\n",
    "# k=-1 ，排除斜對角的數值(均為1.0) \n",
    "fig = (pd.DataFrame(np.tril(corr_matrix ,k=-1))\n",
    "       .stack()\n",
    "       .plot(kind='hist', title=title, bins=100, grid=True, logy=True, xlim=xlim, ylim=ylim)\n",
    "      ).get_figure()\n",
    "# fig.savefig(f'embedding/{title}.jpg', bbox_inches='tight',)\n",
    ";"
   ]
  },
  {
   "cell_type": "markdown",
   "id": "db1ec0c9-a92e-4e69-b788-6d7d78e76532",
   "metadata": {
    "tags": []
   },
   "source": [
    "# Determine key features by voting on 'Family' level\n",
    "根據分類層級(科)投票決定關鍵特徵"
   ]
  },
  {
   "cell_type": "markdown",
   "id": "ea1c85fa-3777-4b43-9976-f090c14c5e21",
   "metadata": {},
   "source": [
    "### Mean of Concern Degree about Features on species/genus\n",
    "- 找出每科的 top N 個重要分類特徵 (i.e. 對分科有最大影響力的 top N 維度)，並將所有科的重要特徵取聯集，得到 N-union 個關鍵特徵。我們視低維度的關鍵特徵為同時具有分辨力 (recognition) 與代表性 (representation) 的蛾標本影像特徵，並用於後續的分析與視覺化的解釋。\n",
    "- 我們借用 Grad-CAM 的概念以找出分科的重要外觀特徵，透過反向傳播演算法 (back propagation) 求出分科模型中對應於每個輸入值的 gradient vector，是為特徵關注度向量。我們在此計算每個物種的平均特徵關注度，並以 voting 的方式，決定每個科的重要特徵。\n",
    "- Voting 的規則是，先從物種平均特徵關注度的向量中，找出最大的 N 個值的位置，每個位置視為得到一票；接著算出每個科當中總得票最高的N個位置，即可選出 N 個重要特徵。最後將所有科的重要特徵取聯集，得到 N-union 個關鍵特徵。 "
   ]
  },
  {
   "cell_type": "markdown",
   "id": "ae066bc9-7623-41bf-864c-f94dd09d26f3",
   "metadata": {},
   "source": [
    "- 建立:科-物種\"索引"
   ]
  },
  {
   "cell_type": "code",
   "execution_count": 64,
   "id": "bc569cdd-8947-449b-a3e0-b6d632585fba",
   "metadata": {},
   "outputs": [],
   "source": [
    "metric = 'Median' # 'Mean', 'Median'"
   ]
  },
  {
   "cell_type": "code",
   "execution_count": 107,
   "id": "91f8c1c0-35bb-460d-9484-e81fbefbe0fb",
   "metadata": {},
   "outputs": [],
   "source": [
    "\n",
    "def pool_grads(grads, taxon_list:list=None, metric:str='Mean', df:pd.DataFrame=None ):\n",
    "    \n",
    "    for i, cls_ in enumerate(taxon_list):\n",
    "        index  = df.query(f\"{taxon_unit} == @cls_\").index.values\n",
    "            \n",
    "        if metric == 'Median':\n",
    "            grads_pool_ = np.median(grads[index], axis=0).reshape(1,-1)\n",
    "        elif  metric == 'Mean':\n",
    "            grad_pool_ = np.mean(grads[index], axis=0).reshape(1,-1)\n",
    "\n",
    "        grads_pool = grads_pool_ if i == 0 else  np.concatenate([grads_pool_, grads_pool])\n",
    "    \n",
    "        print(f'{i:4,d}. shape : {grads_pool.shape} |  {taxon_unit} - {cls_} ', end='\\r')\n",
    "    return grads_pool\n",
    "    "
   ]
  },
  {
   "cell_type": "markdown",
   "id": "9c9f4acd-67fd-450b-b78a-8059be32d7da",
   "metadata": {},
   "source": [
    "- Species"
   ]
  },
  {
   "cell_type": "code",
   "execution_count": 118,
   "id": "44e03787-b192-479a-afd7-f5fc1b06513d",
   "metadata": {},
   "outputs": [],
   "source": []
  },
  {
   "cell_type": "code",
   "execution_count": 108,
   "id": "eeacc1e1-f73e-48b6-b287-0371f3b4d2b8",
   "metadata": {},
   "outputs": [
    {
     "name": "stdout",
     "output_type": "stream",
     "text": [
      "11,185. shape : (11186, 1536) |  Label - 11185 \n",
      " (11186, 1536)\n",
      "CPU times: user 1min 55s, sys: 14.1 s, total: 2min 9s\n",
      "Wall time: 2min 6s\n"
     ]
    }
   ],
   "source": [
    "%%time\n",
    "\n",
    "taxon_unit = 'Label' # Species\n",
    "taxon_list = np.sort(df_meta[mask_label_positive][taxon_unit].dropna().unique())\n",
    "df_ = df_meta[mask_label_positive].reset_index()  \n",
    "\n",
    "grads_sp_mean = pool_grads(grads, taxon_list , metric, df=df_ )\n",
    "print('\\n', grads_sp_mean.shape)"
   ]
  },
  {
   "cell_type": "markdown",
   "id": "b3ff1567-f0bd-4f1f-acac-16016b48e1ef",
   "metadata": {},
   "source": [
    "- Genus"
   ]
  },
  {
   "cell_type": "code",
   "execution_count": 109,
   "id": "3b5f49b7-b20e-43d1-8b2e-da5253eaabb5",
   "metadata": {},
   "outputs": [
    {
     "name": "stdout",
     "output_type": "stream",
     "text": [
      "2,294. shape : (2295, 1536) |  Genus - Zosterornis is   s \n",
      " (2295, 1536)\n",
      "CPU times: user 49.3 s, sys: 325 ms, total: 49.6 s\n",
      "Wall time: 49.1 s\n"
     ]
    }
   ],
   "source": [
    "%%time\n",
    "taxon_unit = 'Genus'\n",
    "taxon_list = np.sort(df_meta[mask_label_positive][taxon_unit].dropna().unique())\n",
    "df_ = df_meta[mask_label_positive].reset_index()  \n",
    "\n",
    "grads_genus_mean = pool_grads(grads, taxon_list , metric, df=df_ )\n",
    "print('\\n', grads_genus_mean.shape)"
   ]
  },
  {
   "cell_type": "markdown",
   "id": "feb2149c-e007-4599-a1ac-994517a9bec5",
   "metadata": {},
   "source": [
    "### 找出關鍵特徵數量(N-union)\n",
    "- 以最小但又具足夠鑑別度的 N 與 N-union 來描述與代表科的特徵。我們窮舉 N = 1 ~ n_topk 這個範圍中對應的 N-union 個關鍵特徵。\n",
    "- 基於每個物種在關鍵特徵空間中的 embedding，依科計算分群的三個指標 (Silhouette Coefficient, Calinski and Harabasz score, 與 Davies-Bouldin score)\n",
    "    - 標準化並加總評估後得到當 N=-, N-union=- 時有最佳的科分群結果，約為總特徵數的 - % (-/768)。"
   ]
  },
  {
   "cell_type": "markdown",
   "id": "35c17109-c1af-484b-b61f-895ed11aed2e",
   "metadata": {
    "tags": []
   },
   "source": [
    "#### Convert the \"Degree of Concern about Features\" to \"Key Features\" on mean of species \n",
    "\n",
    "- 物種均值的特徵關注度(top_n)\n",
    "    - 在物種層級指定top_n個重要維度\n",
    "    - 蒐集對應top_n特徵對應的特徵位置指標\n",
    "    - 依據top_n位置將關注度值轉為one_hot編碼(1 or 0)\n",
    "    - 得到以物種均值為單位的one hot編碼格式的特徵關注度數值(即每個物種1票)\n",
    "- 儲存 對應的 top_n: index_N of Spesies"
   ]
  },
  {
   "cell_type": "code",
   "execution_count": 106,
   "id": "cec1ffbb-1fac-487b-94cf-067046b2dcb8",
   "metadata": {},
   "outputs": [],
   "source": [
    "def one_hot_topk(inputs:np.array, n_topk:int)->np.array:\n",
    "    '''\n",
    "    encoding inputs(n, dim) to one_hot format(0 or 1) \n",
    "    threshod depends on quantile of topk for each sample\n",
    "    encoding : x = 1 if x > q_topk else 0\n",
    "    '''\n",
    "    assert len(inputs.shape)==2\n",
    "    n, dim = inputs.shape\n",
    "\n",
    "    # calculate quantile of topk for each sample. \n",
    "    q_topk = np.quantile(inputs, q=(dim-n_topk)/dim, axis=1)   # shape : (n,)\n",
    "    # broadcast quantile_topk from (n,) to (n, dim)\n",
    "    q_topk = np.repeat(q_topk.reshape(n,-1), dim, axis=1)     \n",
    "    # encoding : x = 1 if x > q_topk else 0\n",
    "    \n",
    "    inputs_one_hot_topk = np.where(inputs >= q_topk, 1, 0)\n",
    "\n",
    "    \n",
    "    return inputs_one_hot_topk\n"
   ]
  },
  {
   "cell_type": "code",
   "execution_count": 69,
   "id": "cfef75ea-82c9-47b0-a51b-939b3fab1bae",
   "metadata": {},
   "outputs": [
    {
     "name": "stdout",
     "output_type": "stream",
     "text": [
      "(11186, 1536)\n"
     ]
    }
   ],
   "source": [
    "taxon_unit = 'Species'\n",
    "# taxon_unit = 'Genus' # 'Species' or 'Genus'\n",
    "if taxon_unit == 'Genus':\n",
    "    grads_mean = grads_genus_mean\n",
    "elif taxon_unit == 'Species':\n",
    "    grads_mean = grads_sp_mean\n",
    "\n",
    "print(grads_mean.shape)"
   ]
  },
  {
   "cell_type": "code",
   "execution_count": 70,
   "id": "658655ae-d688-46d8-9b64-d961aceb62d2",
   "metadata": {},
   "outputs": [
    {
     "name": "stdout",
     "output_type": "stream",
     "text": [
      "(11186, 1536)\n"
     ]
    },
    {
     "ename": "AssertionError",
     "evalue": "Sum in dim [584]  is not equal to n_topk",
     "output_type": "error",
     "traceback": [
      "\u001b[0;31m---------------------------------------------------------------------------\u001b[0m",
      "\u001b[0;31mAssertionError\u001b[0m                            Traceback (most recent call last)",
      "\u001b[0;32m<timed exec>\u001b[0m in \u001b[0;36m<module>\u001b[0;34m\u001b[0m\n",
      "\u001b[0;31mAssertionError\u001b[0m: Sum in dim [584]  is not equal to n_topk"
     ]
    }
   ],
   "source": [
    "%%time\n",
    "\n",
    "n_topk = 5\n",
    "grads_oh_topk = one_hot_topk(grads_mean, n_topk)\n",
    "print(grads_oh_topk.shape)\n",
    "\n",
    "# assert each sum of each dimension per data is equal to n_topk\n",
    "assert (np.sum(grads_oh_topk, axis=1) == n_topk).all(), f'Sum in dim {np.where(np.sum(grads_oh_topk, axis=1) != n_topk)[0]}  \\\n",
    "is not equal to n_topk' \n",
    "# assert sorted index of each dimension per data is of \"inputs\" is same as \"inputs_one_hot_topk\"\n",
    "assert (np.sort(np.argsort(grads_mean,)[:, -1 -(n_topk-1): ])  ==  \n",
    "    np.sort(np.argsort(grads_oh_topk)[:, -1 -(n_topk-1): ])).all()"
   ]
  },
  {
   "cell_type": "markdown",
   "id": "7f44ac32-d81d-4c19-a5d2-e534e89bab5b",
   "metadata": {},
   "source": [
    "\n",
    "\n",
    "####  Combine the key features of all families to obtain N-union key features\n",
    "算出每個科當中總得票最高的N個位置，即可選出 N 個重要特徵。最後將所有科的重要特徵取聯集，得到 N-union 個關鍵特徵。\n",
    "- 根據\"科-物種\"索引各科下各物種的top_n個重要維度\n",
    "- 將各物種的top_n個重要維度透投票加總(one_hot編碼後每個物種/屬1票)\n",
    "- 取得以科為單位的N-union重要維度\n",
    "- ~~one_hot 編碼 科為單位的N-union重要維度~~\n",
    "    - 排序各科前top_n重要維度(將投票數voting轉換為排序)\n",
    "    - x = 1 if x > 0 else 0\n",
    "- 儲存 對應的 top_n: index_N_union of Family\n",
    "    "
   ]
  },
  {
   "cell_type": "markdown",
   "id": "1c911346-d453-4dfe-999d-cc86c02e35dd",
   "metadata": {},
   "source": [
    "##### Voting on Family level"
   ]
  },
  {
   "cell_type": "code",
   "execution_count": 71,
   "id": "e914b6cc-0577-4c7a-a6ba-fa150ebfef47",
   "metadata": {},
   "outputs": [
    {
     "data": {
      "text/html": [
       "<div>\n",
       "<style scoped>\n",
       "    .dataframe tbody tr th:only-of-type {\n",
       "        vertical-align: middle;\n",
       "    }\n",
       "\n",
       "    .dataframe tbody tr th {\n",
       "        vertical-align: top;\n",
       "    }\n",
       "\n",
       "    .dataframe thead th {\n",
       "        text-align: right;\n",
       "    }\n",
       "</style>\n",
       "<table border=\"1\" class=\"dataframe\">\n",
       "  <thead>\n",
       "    <tr style=\"text-align: right;\">\n",
       "      <th></th>\n",
       "      <th>Family</th>\n",
       "      <th>Label</th>\n",
       "    </tr>\n",
       "  </thead>\n",
       "  <tbody>\n",
       "    <tr>\n",
       "      <th>0</th>\n",
       "      <td>Acanthisittidae</td>\n",
       "      <td>3090</td>\n",
       "    </tr>\n",
       "    <tr>\n",
       "      <th>1</th>\n",
       "      <td>Acanthisittidae</td>\n",
       "      <td>3091</td>\n",
       "    </tr>\n",
       "    <tr>\n",
       "      <th>2</th>\n",
       "      <td>Acanthizidae</td>\n",
       "      <td>3092</td>\n",
       "    </tr>\n",
       "    <tr>\n",
       "      <th>3</th>\n",
       "      <td>Acanthizidae</td>\n",
       "      <td>3093</td>\n",
       "    </tr>\n",
       "    <tr>\n",
       "      <th>4</th>\n",
       "      <td>Acanthizidae</td>\n",
       "      <td>3094</td>\n",
       "    </tr>\n",
       "    <tr>\n",
       "      <th>...</th>\n",
       "      <td>...</td>\n",
       "      <td>...</td>\n",
       "    </tr>\n",
       "    <tr>\n",
       "      <th>11181</th>\n",
       "      <td>Vireonidae</td>\n",
       "      <td>9528</td>\n",
       "    </tr>\n",
       "    <tr>\n",
       "      <th>11182</th>\n",
       "      <td>Vireonidae</td>\n",
       "      <td>9529</td>\n",
       "    </tr>\n",
       "    <tr>\n",
       "      <th>11183</th>\n",
       "      <td>Vireonidae</td>\n",
       "      <td>9530</td>\n",
       "    </tr>\n",
       "    <tr>\n",
       "      <th>11184</th>\n",
       "      <td>Vireonidae</td>\n",
       "      <td>9531</td>\n",
       "    </tr>\n",
       "    <tr>\n",
       "      <th>11185</th>\n",
       "      <td>Zeledoniidae</td>\n",
       "      <td>9532</td>\n",
       "    </tr>\n",
       "  </tbody>\n",
       "</table>\n",
       "<p>11186 rows × 2 columns</p>\n",
       "</div>"
      ],
      "text/plain": [
       "                Family  Label\n",
       "0      Acanthisittidae   3090\n",
       "1      Acanthisittidae   3091\n",
       "2         Acanthizidae   3092\n",
       "3         Acanthizidae   3093\n",
       "4         Acanthizidae   3094\n",
       "...                ...    ...\n",
       "11181       Vireonidae   9528\n",
       "11182       Vireonidae   9529\n",
       "11183       Vireonidae   9530\n",
       "11184       Vireonidae   9531\n",
       "11185     Zeledoniidae   9532\n",
       "\n",
       "[11186 rows x 2 columns]"
      ]
     },
     "execution_count": 71,
     "metadata": {},
     "output_type": "execute_result"
    }
   ],
   "source": [
    "if taxon_unit == 'Genus':\n",
    "    family_index = (df_meta[mask_label_positive].groupby(['Family', 'Genus']).count().query('ML_Catalog_Number>0').reset_index()[['Family', 'Genus']]) \n",
    "elif taxon_unit == 'Species':\n",
    "    family_index = (df_meta[mask_label_positive].groupby(['Family', 'Label']).count().query('ML_Catalog_Number>0').reset_index()[['Family', 'Label']]) \n",
    "# elif taxon_unit == 'Species':\n",
    "    # family_index = (df_meta.groupby(['family', 'Sci_Name']).count().reset_index()[['family', 'Sci_Name']])\n",
    "family_index"
   ]
  },
  {
   "cell_type": "code",
   "execution_count": 78,
   "id": "d6bcb8ac-4641-4c1c-84e7-1b557723bd30",
   "metadata": {},
   "outputs": [
    {
     "name": "stdout",
     "output_type": "stream",
     "text": [
      "248. shape : (249, 1536) | Family : Zeledoniidae         \n",
      " (249, 1536)\n",
      "CPU times: user 321 ms, sys: 16.8 ms, total: 338 ms\n",
      "Wall time: 317 ms\n"
     ]
    },
    {
     "data": {
      "text/plain": [
       "array([[0, 0, 0, ..., 0, 0, 0],\n",
       "       [0, 0, 0, ..., 0, 0, 0],\n",
       "       [0, 0, 0, ..., 0, 0, 0],\n",
       "       ...,\n",
       "       [0, 0, 0, ..., 0, 0, 0],\n",
       "       [0, 0, 0, ..., 0, 0, 0],\n",
       "       [0, 0, 0, ..., 0, 0, 0]])"
      ]
     },
     "execution_count": 78,
     "metadata": {},
     "output_type": "execute_result"
    }
   ],
   "source": [
    "%%time\n",
    "# Voting on Family level to get the key features of all families  \n",
    "# n, dim = grads_mean_topk.shape\n",
    "def get_voting_family(grads_oh_topk:np.ndarray=None): \n",
    "    for i, family_ in enumerate(family_index.Family.unique()):\n",
    "        index_fm = family_index.query(\"Family == @family_\").index.values\n",
    "        voting_family_ = np.sum(grads_oh_topk[index_fm], axis=0, keepdims=True)  # (1, dim)\n",
    "        # assert voting_family_.size ==  dim      # dim \n",
    "\n",
    "        voting_family = voting_family_ if i==0 else np.concatenate([voting_family_, voting_family])\n",
    "\n",
    "        print(f'{i:3,d}. shape : {voting_family.shape} | Family : {family_:20s} ', end='\\r')\n",
    "    return voting_family\n",
    "\n",
    "voting_family = get_voting_family(grads_oh_topk)\n",
    "print('\\n', voting_family.shape)\n",
    "voting_family "
   ]
  },
  {
   "cell_type": "markdown",
   "id": "54093b6b-32a7-4986-9c75-420357f266ab",
   "metadata": {},
   "source": [
    "- Calculate the n_topk positions with the highest total votes in each Family  \n",
    "算出每個科當中總得票最高的N個位置"
   ]
  },
  {
   "cell_type": "code",
   "execution_count": 25,
   "id": "5ee9a3b2-da86-452c-a0e1-a7f148e1d884",
   "metadata": {},
   "outputs": [
    {
     "name": "stdout",
     "output_type": "stream",
     "text": [
      "(249, 5)\n"
     ]
    }
   ],
   "source": [
    "index_ = np.argsort(voting_family, axis=1)[:, -n_topk:]\n",
    "print(index_.shape)"
   ]
  },
  {
   "cell_type": "code",
   "execution_count": 73,
   "id": "271ffc01-a710-4141-a07b-36499574768d",
   "metadata": {},
   "outputs": [
    {
     "ename": "AssertionError",
     "evalue": "Sum in dim : [ 19  22  36  45  52  61  76  78  82  96 123 124 126 137 157 170 178 181\n 187 210 217 221 229 230 231 238 245 247]  is not equal to n_topk",
     "output_type": "error",
     "traceback": [
      "\u001b[0;31m---------------------------------------------------------------------------\u001b[0m",
      "\u001b[0;31mAssertionError\u001b[0m                            Traceback (most recent call last)",
      "\u001b[0;32m/tmp/ipykernel_625256/3473517268.py\u001b[0m in \u001b[0;36m<module>\u001b[0;34m\u001b[0m\n\u001b[1;32m      2\u001b[0m \u001b[0;34m\u001b[0m\u001b[0m\n\u001b[1;32m      3\u001b[0m \u001b[0;31m# assert each sum of each dimension per data is equal to n_topk\u001b[0m\u001b[0;34m\u001b[0m\u001b[0;34m\u001b[0m\u001b[0m\n\u001b[0;32m----> 4\u001b[0;31m \u001b[0;32massert\u001b[0m \u001b[0;34m(\u001b[0m\u001b[0mnp\u001b[0m\u001b[0;34m.\u001b[0m\u001b[0msum\u001b[0m\u001b[0;34m(\u001b[0m\u001b[0mvoting_Fmy_oh_topk\u001b[0m\u001b[0;34m,\u001b[0m \u001b[0maxis\u001b[0m\u001b[0;34m=\u001b[0m\u001b[0;36m1\u001b[0m\u001b[0;34m)\u001b[0m \u001b[0;34m==\u001b[0m \u001b[0mn_topk\u001b[0m\u001b[0;34m)\u001b[0m\u001b[0;34m.\u001b[0m\u001b[0mall\u001b[0m\u001b[0;34m(\u001b[0m\u001b[0;34m)\u001b[0m\u001b[0;34m,\u001b[0m \u001b[0mf\u001b[0m\u001b[0;31m'\u001b[0m\u001b[0mSum\u001b[0m \u001b[0;32min\u001b[0m \u001b[0mdim\u001b[0m \u001b[0;34m:\u001b[0m \u001b[0;34m{\u001b[0m\u001b[0mnp\u001b[0m\u001b[0;34m.\u001b[0m\u001b[0mwhere\u001b[0m\u001b[0;34m(\u001b[0m\u001b[0mnp\u001b[0m\u001b[0;34m.\u001b[0m\u001b[0msum\u001b[0m\u001b[0;34m(\u001b[0m\u001b[0mvoting_Fmy_oh_topk\u001b[0m\u001b[0;34m,\u001b[0m \u001b[0maxis\u001b[0m\u001b[0;34m=\u001b[0m\u001b[0;36m1\u001b[0m\u001b[0;34m)\u001b[0m \u001b[0;34m!=\u001b[0m \u001b[0mn_topk\u001b[0m\u001b[0;34m)\u001b[0m\u001b[0;34m[\u001b[0m\u001b[0;36m0\u001b[0m\u001b[0;34m]\u001b[0m\u001b[0;34m}\u001b[0m\u001b[0;31m \u001b[0m\u001b[0;31m \u001b[0m\u001b[0;31m\\\u001b[0m\u001b[0;34m\u001b[0m\u001b[0;34m\u001b[0m\u001b[0m\n\u001b[0m\u001b[1;32m      5\u001b[0m \u001b[0;32mis\u001b[0m \u001b[0;32mnot\u001b[0m \u001b[0mequal\u001b[0m \u001b[0mto\u001b[0m \u001b[0mn_topk\u001b[0m\u001b[0;31m'\u001b[0m\u001b[0;34m\u001b[0m\u001b[0;34m\u001b[0m\u001b[0m\n\u001b[1;32m      6\u001b[0m \u001b[0;31m# assert sorted index of each dimension per data is of \"inputs\" is same as \"inputs_one_hot_topk\"\u001b[0m\u001b[0;34m\u001b[0m\u001b[0;34m\u001b[0m\u001b[0m\n",
      "\u001b[0;31mAssertionError\u001b[0m: Sum in dim : [ 19  22  36  45  52  61  76  78  82  96 123 124 126 137 157 170 178 181\n 187 210 217 221 229 230 231 238 245 247]  is not equal to n_topk"
     ]
    }
   ],
   "source": [
    "voting_Fmy_oh_topk = one_hot_topk(voting_family, n_topk)\n",
    "\n",
    "# assert each sum of each dimension per data is equal to n_topk\n",
    "assert (np.sum(voting_Fmy_oh_topk, axis=1) == n_topk).all(), f'Sum in dim : {np.where(np.sum(voting_Fmy_oh_topk, axis=1) != n_topk)[0]}  \\\n",
    "is not equal to n_topk' \n",
    "# assert sorted index of each dimension per data is of \"inputs\" is same as \"inputs_one_hot_topk\"\n",
    "assert (np.sort(np.argsort(voting_family,)[:, -1 -(n_topk-1): ])  ==  \n",
    "    np.sort(np.argsort(voting_Fmy_oh_topk)[:, -1 -(n_topk-1): ])).all()"
   ]
  },
  {
   "cell_type": "markdown",
   "id": "cd68f907-8a1e-4e77-9ccd-f463817b2185",
   "metadata": {},
   "source": [
    "#### Get the combination of topk - N_union"
   ]
  },
  {
   "cell_type": "code",
   "execution_count": 147,
   "id": "2616b483-2bcf-4aa1-90d6-16fbe0c2a0b2",
   "metadata": {},
   "outputs": [
    {
     "name": "stdout",
     "output_type": "stream",
     "text": [
      "896555 768\n",
      "(11186, 1536)\n",
      "CPU times: user 43.3 s, sys: 4.15 s, total: 47.5 s       \n",
      "Wall time: 46.8 s\n"
     ]
    }
   ],
   "source": [
    "%%time\n",
    "topks = range(1 ,51)\n",
    "\n",
    "n, dim = embeddings.shape\n",
    "print(n, dim)\n",
    "\n",
    "taxon_unit = 'Species'\n",
    "# taxon_unit = 'Genus' # 'Species' or 'Genus'\n",
    "if taxon_unit == 'Genus':\n",
    "    grads_mean = grads_genus_mean\n",
    "elif taxon_unit == 'Species':\n",
    "    grads_mean = grads_sp_mean\n",
    "\n",
    "print(grads_mean.shape)\n",
    "\n",
    "# filter positive grads\n",
    "grads_mean_pos = np.clip(grads_mean , 0, None) # transform negative grads to 0\n",
    "\n",
    "index_n_unions = []\n",
    "for i, topk_ in enumerate(topks) :\n",
    "    \n",
    "    # transform grads to voting value on sp or genus level, sort by values\n",
    "    grads_oh_topk = one_hot_topk(grads_pos, topk_)  \n",
    "    # voting result at Family level\n",
    "    voting_family = get_voting_family(grads_oh_topk)  \n",
    "    # transform voting result according topk\n",
    "    voting_Fmy_oh_topk = one_hot_topk(voting_family, topk_) \n",
    "    # sum the voting results on eaeh diemnsion\n",
    "    features_topk_families_voting = np.sum(voting_Fmy_oh_topk ,axis=0)  \n",
    "    \n",
    "    # get union of voting result\n",
    "    index_ = np.where(features_topk_families_voting > 0)[0]         # get union from all dimension which voting greater than 0                 \n",
    "    index_n_union_ = np.where(index_ > dim, index_ - dim, index_)   # unstack dimensions from 'dim + dim' to dim  \n",
    "    index_n_union_ = np.unique(index_n_union_)                      # remove duplicated dimensions\n",
    "    \n",
    "    index_n_unions.append(index_n_union_)\n",
    "    print(i, topk_, end='\\r')"
   ]
  },
  {
   "cell_type": "code",
   "execution_count": 151,
   "id": "27119df8-d27f-4609-bfdb-302c23ebae8b",
   "metadata": {},
   "outputs": [
    {
     "name": "stderr",
     "output_type": "stream",
     "text": [
      "/home/esslab/anaconda3/envs/mae/lib/python3.9/site-packages/numpy/lib/npyio.py:518: VisibleDeprecationWarning: Creating an ndarray from ragged nested sequences (which is a list-or-tuple of lists-or-tuples-or ndarrays with different lengths or shapes) is deprecated. If you meant to do this, you must specify 'dtype=object' when creating the ndarray.\n",
      "  arr = np.asanyarray(arr)\n"
     ]
    }
   ],
   "source": [
    "np.save(path_embeddings/f'index_n_unions.npy', index_n_unions)\n",
    "index_n_unions = np.load(path_embeddings/f'index_n_unions.npy', allow_pickle=True)\n"
   ]
  },
  {
   "cell_type": "code",
   "execution_count": 150,
   "id": "1fdb003f-28bc-4e0f-a571-87b5262da744",
   "metadata": {},
   "outputs": [
    {
     "data": {
      "text/plain": [
       "<AxesSubplot:title={'center':'combination of topk - N_union'}, xlabel='topk', ylabel='n_unions'>"
      ]
     },
     "execution_count": 150,
     "metadata": {},
     "output_type": "execute_result"
    },
    {
     "data": {
      "image/png": "[encoded data removed]",
      "text/plain": [
       "<Figure size 864x288 with 1 Axes>"
      ]
     },
     "metadata": {
      "needs_background": "light"
     },
     "output_type": "display_data"
    }
   ],
   "source": [
    "n_unions_  = [len(idxs_) for idxs_ in index_n_unions]\n",
    "title = \"combination of topk - N_union\"\n",
    "figsize = (12,4)\n",
    "\n",
    "df_Nuniun = pd.DataFrame(n_unions_, index=range(1, len(n_unions_)+1), columns=['n_unions'] )\n",
    "(df_Nuniun[:10].plot(xlabel=\"topk\", ylabel=\"n_unions\", \n",
    "                     grid=True, title=title, figsize=figsize )\n",
    ")"
   ]
  },
  {
   "cell_type": "code",
   "execution_count": 158,
   "id": "2a676655-6046-4938-81a1-0c86973fd246",
   "metadata": {},
   "outputs": [
    {
     "data": {
      "text/html": [
       "<div>\n",
       "<style scoped>\n",
       "    .dataframe tbody tr th:only-of-type {\n",
       "        vertical-align: middle;\n",
       "    }\n",
       "\n",
       "    .dataframe tbody tr th {\n",
       "        vertical-align: top;\n",
       "    }\n",
       "\n",
       "    .dataframe thead th {\n",
       "        text-align: right;\n",
       "    }\n",
       "</style>\n",
       "<table border=\"1\" class=\"dataframe\">\n",
       "  <thead>\n",
       "    <tr style=\"text-align: right;\">\n",
       "      <th></th>\n",
       "      <th>n_unions</th>\n",
       "    </tr>\n",
       "  </thead>\n",
       "  <tbody>\n",
       "    <tr>\n",
       "      <th>1</th>\n",
       "      <td>74</td>\n",
       "    </tr>\n",
       "    <tr>\n",
       "      <th>2</th>\n",
       "      <td>140</td>\n",
       "    </tr>\n",
       "    <tr>\n",
       "      <th>3</th>\n",
       "      <td>197</td>\n",
       "    </tr>\n",
       "    <tr>\n",
       "      <th>4</th>\n",
       "      <td>258</td>\n",
       "    </tr>\n",
       "    <tr>\n",
       "      <th>5</th>\n",
       "      <td>308</td>\n",
       "    </tr>\n",
       "    <tr>\n",
       "      <th>6</th>\n",
       "      <td>343</td>\n",
       "    </tr>\n",
       "    <tr>\n",
       "      <th>7</th>\n",
       "      <td>390</td>\n",
       "    </tr>\n",
       "    <tr>\n",
       "      <th>8</th>\n",
       "      <td>427</td>\n",
       "    </tr>\n",
       "    <tr>\n",
       "      <th>9</th>\n",
       "      <td>470</td>\n",
       "    </tr>\n",
       "    <tr>\n",
       "      <th>10</th>\n",
       "      <td>481</td>\n",
       "    </tr>\n",
       "  </tbody>\n",
       "</table>\n",
       "</div>"
      ],
      "text/plain": [
       "    n_unions\n",
       "1         74\n",
       "2        140\n",
       "3        197\n",
       "4        258\n",
       "5        308\n",
       "6        343\n",
       "7        390\n",
       "8        427\n",
       "9        470\n",
       "10       481"
      ]
     },
     "execution_count": 158,
     "metadata": {},
     "output_type": "execute_result"
    }
   ],
   "source": [
    "df_Nuniun = pd.DataFrame(n_unions_, index=range(1, len(n_unions_)+1), columns=['n_unions'] )\n",
    "df_Nuniun[:10] \n"
   ]
  },
  {
   "cell_type": "markdown",
   "id": "02151160-7134-4e43-9c9b-7fa9ef089c3b",
   "metadata": {},
   "source": [
    "#### NOTE\n",
    "-  tok=1 時，\tn_unions才小於100\n",
    "    -   tok=1, n_unions=74 (9.63%)"
   ]
  },
  {
   "cell_type": "markdown",
   "id": "538a1420-cc66-4ee9-8ace-630f8a3830dd",
   "metadata": {},
   "source": [
    "---"
   ]
  },
  {
   "cell_type": "markdown",
   "id": "212982d3-f1d5-4572-801e-e39e3f16979f",
   "metadata": {},
   "source": [
    "#### Clustering performance evaluation"
   ]
  },
  {
   "cell_type": "code",
   "execution_count": 161,
   "id": "4bcc099d-bc27-4520-99c7-e5066d1ce46b",
   "metadata": {},
   "outputs": [],
   "source": [
    "def get_Nunion_features (features=None, n=None, index_n_unions=index_n_unions):\n",
    "    index = index_n_unions[n]\n",
    "    _, dim = features.shape\n",
    "    mask = ~np.isin(np.arange(dim), index)  # Filtering out non-critical dimensions by reverse selection   \n",
    "    index_inverse = np.arange(dim)[mask]\n",
    "    \n",
    "    features_ = features.copy()             #  Recopy features_ every time, otherwise the original data will be overwritten\n",
    "    features_[:, index_inverse] = 0         # Freeze the value of the dimension that is not selected to 0\n",
    "    return features_"
   ]
  },
  {
   "cell_type": "code",
   "execution_count": 267,
   "id": "df21a38b-e3a0-42cc-8808-964d9d41e4e9",
   "metadata": {},
   "outputs": [],
   "source": [
    "n_range = np.arange(50)"
   ]
  },
  {
   "cell_type": "code",
   "execution_count": 268,
   "id": "c0395453-39d1-47f1-8536-df222c5c83dc",
   "metadata": {},
   "outputs": [
    {
     "name": "stdout",
     "output_type": "stream",
     "text": [
      "CPU times: user 3min 13s, sys: 31.1 s, total: 3min 44s\n",
      "Wall time: 3min 44s\n"
     ]
    }
   ],
   "source": [
    "%%time\n",
    "# The score is higher when clusters are dense and well separated\n",
    "ch_scores = []\n",
    "for n in n_range:\n",
    "    features_ = get_Nunion_features (features=embeddings[mask_label_positive], n=n, index_n_unions=index_n_unions)\n",
    "    score = metrics.calinski_harabasz_score(features_, df_meta[mask_label_positive].Family)\n",
    "    ch_scores.append(score) \n",
    "    print(f'topk : {n}, score : {score:.3f}', end='\\r')"
   ]
  },
  {
   "cell_type": "code",
   "execution_count": 269,
   "id": "5bd5a342-5487-4329-9b30-e1f2e62d51ae",
   "metadata": {},
   "outputs": [
    {
     "name": "stdout",
     "output_type": "stream",
     "text": [
      "CPU times: user 1h 19min 7s, sys: 2h 59min, total: 4h 18min 7s\n",
      "Wall time: 6min\n"
     ]
    }
   ],
   "source": [
    "%%time\n",
    "# Zero is the lowest possible score. Values closer to zero indicate a better partition.\n",
    "db_scores = []\n",
    "for n in n_range:\n",
    "    features_ = get_Nunion_features (features=embeddings[mask_label_positive], n=n, index_n_unions=index_n_unions)\n",
    "    score = metrics.davies_bouldin_score(features_, df_meta[mask_label_positive].Family)\n",
    "    db_scores.append(score) \n",
    "    print(f'topk : {n}, score : {score:.3f}', end='\\r')"
   ]
  },
  {
   "cell_type": "code",
   "execution_count": 270,
   "id": "a4dd70d2-24e5-4f02-94a2-5a0f819f469c",
   "metadata": {},
   "outputs": [],
   "source": [
    "# %%time\n",
    " \n",
    "# sil_scores = []\n",
    "# for n in n_range:\n",
    "#     features_ = get_Nunion_features (features=embeddings[mask_label_positive], n=n, index_n_unions=index_n_unions)\n",
    "#     score = metrics.silhouette_score(features_, df_meta[mask_label_positive].Family)\n",
    "#     sil_scores += score\n",
    "#     print(f'topk : {n}, score : {score:.3f}', end='\\r')"
   ]
  },
  {
   "cell_type": "code",
   "execution_count": 279,
   "id": "4e829a5b-5811-450d-b68f-ccd0883f4a73",
   "metadata": {},
   "outputs": [
    {
     "data": {
      "text/html": [
       "<div>\n",
       "<style scoped>\n",
       "    .dataframe tbody tr th:only-of-type {\n",
       "        vertical-align: middle;\n",
       "    }\n",
       "\n",
       "    .dataframe tbody tr th {\n",
       "        vertical-align: top;\n",
       "    }\n",
       "\n",
       "    .dataframe thead th {\n",
       "        text-align: right;\n",
       "    }\n",
       "</style>\n",
       "<table border=\"1\" class=\"dataframe\">\n",
       "  <thead>\n",
       "    <tr style=\"text-align: right;\">\n",
       "      <th></th>\n",
       "      <th>calinski_harabasz</th>\n",
       "      <th>davies_bouldin</th>\n",
       "    </tr>\n",
       "  </thead>\n",
       "  <tbody>\n",
       "    <tr>\n",
       "      <th>74</th>\n",
       "      <td>246.846254</td>\n",
       "      <td>5.273027</td>\n",
       "    </tr>\n",
       "    <tr>\n",
       "      <th>140</th>\n",
       "      <td>238.325388</td>\n",
       "      <td>5.228312</td>\n",
       "    </tr>\n",
       "    <tr>\n",
       "      <th>197</th>\n",
       "      <td>238.820992</td>\n",
       "      <td>5.197411</td>\n",
       "    </tr>\n",
       "    <tr>\n",
       "      <th>258</th>\n",
       "      <td>239.147132</td>\n",
       "      <td>5.179836</td>\n",
       "    </tr>\n",
       "    <tr>\n",
       "      <th>308</th>\n",
       "      <td>236.526286</td>\n",
       "      <td>5.181427</td>\n",
       "    </tr>\n",
       "  </tbody>\n",
       "</table>\n",
       "</div>"
      ],
      "text/plain": [
       "     calinski_harabasz  davies_bouldin\n",
       "74          246.846254        5.273027\n",
       "140         238.325388        5.228312\n",
       "197         238.820992        5.197411\n",
       "258         239.147132        5.179836\n",
       "308         236.526286        5.181427"
      ]
     },
     "execution_count": 279,
     "metadata": {},
     "output_type": "execute_result"
    }
   ],
   "source": [
    "data = [ch_scores, db_scores]\n",
    "metric_score = (pd.DataFrame(np.array(data).T,\n",
    "                             index=n_range,\n",
    "                             columns=[\"calinski_harabasz\", \"davies_bouldin\"])\n",
    "                # .reset_index().rename(columns={'index':'topk'})\n",
    "               )\n",
    "# metric_score.topk = metric_score.topk + 1\n",
    "metric_score.index = df_Nuniun.n_unions[:len(n_range)].values\n",
    "\n",
    "metric_score.to_csv(f'meta/clustering_metric_score_features.csv')\n",
    "metric_score = pd.read_csv(f'meta/clustering_metric_score_features.csv', header=[0], index_col=0)\n",
    "metric_score[:5]"
   ]
  },
  {
   "cell_type": "code",
   "execution_count": 280,
   "id": "0d672a7d-b897-46a4-adbb-66ac0be50802",
   "metadata": {},
   "outputs": [
    {
     "name": "stdout",
     "output_type": "stream",
     "text": [
      "best topk : 4, N_uniun 258\n",
      "Clustering Eval Score : 1.663\n"
     ]
    },
    {
     "data": {
      "image/png": "[encoded data removed]",
      "text/plain": [
       "<Figure size 864x144 with 1 Axes>"
      ]
     },
     "metadata": {
      "needs_background": "light"
     },
     "output_type": "display_data"
    }
   ],
   "source": [
    " #　將三個metric標準化處理，取值在0~1。\n",
    "metric_score.davies_bouldin = metric_score.davies_bouldin*-1  # davies_bouldin為越小越佳，因此先乘上負號\n",
    "metric_score_ = (metric_score -  metric_score.min()) / (metric_score.max() -  metric_score.min())\n",
    "# idx = pd.IndexSlice\n",
    "# metric_score_.loc[:, idx[:, \"2D\"]].sum(axis=1)\n",
    "# metric_score_.loc[:, idx[:, \"3D\"]].sum(axis=1)\n",
    "metric_score_merge = metric_score_.sum(axis=1)\n",
    "best_topk =  metric_score_merge.argmax() + 1\n",
    "print(f\"best topk : {best_topk}, N_uniun {metric_score_merge.idxmax()}\")  # 檢視分群最佳結果的 N_union\n",
    "print(f\"Clustering Eval Score : {metric_score_merge.max():.3f}\")\n",
    "\n",
    "figsize=(12, 2); marker=\".\"; lw = 2\n",
    "title = \"Clustering_Score_Merge\"\n",
    "title += f\"\\ntopk : {best_topk},  N_uniun :  {metric_score_merge.idxmax()}\"\n",
    "metric_score_merge.plot(title=title , grid=True, figsize=figsize, lw=lw, marker=marker, xlabel='N_uniun', ylabel='Score');         # 三個指標標準化後加總\n",
    "\n",
    "# metric_score.silhouette.plot(title=\"Silhouette_Score\",grid=True, figsize=figsize, lw=lw, marker=marker);"
   ]
  },
  {
   "cell_type": "code",
   "execution_count": 281,
   "id": "bfbf841d-3ab4-4390-ac3e-a020b033712c",
   "metadata": {},
   "outputs": [
    {
     "data": {
      "image/png": "[encoded data removed]",
      "text/plain": [
       "<Figure size 864x144 with 1 Axes>"
      ]
     },
     "metadata": {
      "needs_background": "light"
     },
     "output_type": "display_data"
    }
   ],
   "source": [
    "# The score is higher when clusters are dense and well separated\n",
    "metric_score.calinski_harabasz.plot(title=\"Calinski_Harabasz_Score\",grid=True, figsize=figsize, lw=lw, marker=marker);"
   ]
  },
  {
   "cell_type": "code",
   "execution_count": 275,
   "id": "4908997e-9eeb-4c7e-8321-7bb76d25364c",
   "metadata": {},
   "outputs": [
    {
     "data": {
      "image/png": "[encoded data removed]",
      "text/plain": [
       "<Figure size 864x144 with 1 Axes>"
      ]
     },
     "metadata": {
      "needs_background": "light"
     },
     "output_type": "display_data"
    }
   ],
   "source": [
    "# Zero is the lowest possible score. Values closer to zero indicate a better partition.\n",
    "metric_score.davies_bouldin.plot(title=\"Davies_Bouldin_Score\",grid=True, figsize=figsize, lw=lw, marker=marker);"
   ]
  },
  {
   "cell_type": "markdown",
   "id": "e93cb661-2287-4664-9fd1-bbd203c8baac",
   "metadata": {},
   "source": [
    "##### Note about Clustering performance evaluation:\n",
    "- topk=4，N-union=258時，有最佳的科分群分數(1.66)，約為總特徵數的 33.59% (258/768)\n",
    "- 分群評估方法中，由於silhouette_score太過費時，因此本次未納入\n",
    "- 作圖檢視，clustering結果與metric_score分數一致，並不是使用越多特徵、分群效果就越明顯 "
   ]
  },
  {
   "cell_type": "markdown",
   "id": "97294eb5-947b-469e-98e5-97d60086769a",
   "metadata": {},
   "source": [
    "# Understanding the visual significance of key features"
   ]
  },
  {
   "cell_type": "code",
   "execution_count": null,
   "id": "9cb53ccc-b1a8-4f5d-95f7-76dc745456f6",
   "metadata": {},
   "outputs": [],
   "source": []
  }
 ],
 "metadata": {
  "kernelspec": {
   "display_name": "Python [conda env:mae]",
   "language": "python",
   "name": "conda-env-mae-py"
  },
  "language_info": {
   "codemirror_mode": {
    "name": "ipython",
    "version": 3
   },
   "file_extension": ".py",
   "mimetype": "text/x-python",
   "name": "python",
   "nbconvert_exporter": "python",
   "pygments_lexer": "ipython3",
   "version": "3.9.7"
  }
 },
 "nbformat": 4,
 "nbformat_minor": 5
}
