{
 "cells": [
  {
   "cell_type": "code",
   "execution_count": 34,
   "id": "1bd2ea3f-e72d-4c39-91ed-de003fdafed4",
   "metadata": {},
   "outputs": [
    {
     "name": "stdout",
     "output_type": "stream",
     "text": [
      "1.22.2\n",
      "1.4.1\n",
      "1.10.2+cu113\n"
     ]
    }
   ],
   "source": [
    "import sys\n",
    "import os\n",
    "import time\n",
    "import datetime\n",
    "import json\n",
    "import numpy as np\n",
    "import pandas as pd\n",
    "from pathlib import Path\n",
    "\n",
    "from sklearn import metrics\n",
    "from PIL import Image\n",
    "import seaborn as sns\n",
    "import matplotlib.pyplot as plt\n",
    "%matplotlib inline\n",
    "\n",
    "import torch\n",
    "from torch import nn\n",
    "\n",
    "import torch.nn.functional as F\n",
    "from torch.autograd import Variable\n",
    "import torchvision.transforms as transforms\n",
    "# import torchvision.datasets as datasets\n",
    "from util import datasets\n",
    "import torchvision.utils as vutils\n",
    "\n",
    "from util.pos_embed import interpolate_pos_embed\n",
    "import models_mae\n",
    "import models_vit\n",
    "\n",
    "print(np.__version__)\n",
    "print(pd.__version__)\n",
    "print(torch.__version__)\n",
    "\n",
    "path_meta = Path('meta')\n",
    "path_meta.mkdir(exist_ok=True, parents=True)\n",
    "path_embeddings = Path('embedding')\n",
    "path_embeddings.mkdir(exist_ok=True, parents=True)"
   ]
  },
  {
   "cell_type": "markdown",
   "id": "92461849-fdcf-428b-af9a-51e355b8ca6a",
   "metadata": {},
   "source": [
    "### Purpose 目的\n",
    "Identify the key features/dimensions that the model uses to make determinations in the classification task  \n",
    "\n",
    "找出模型在分類任務中，用來做判定的關鍵特徵/維度\n",
    "\n",
    "### How to find key features 如何找出關鍵特徵\n",
    "- 將全世界的鳥類透過模型編碼(壓縮)成形狀為(1, dimension)的高維向量\n",
    "    - 這個高維向量又稱為 embedding(representation, latent vector)\n",
    "    - 在模型中以n=dimension組數值，編碼、描述鳥類的型態\n",
    "    - 在ViT模型中， 圖塊嵌入(patch embedding)匯聚圖像資訊為類別表徵(cls embedding)，並使用cls embedding作為下游的分類任務使用 \n",
    "\n",
    "- ~~借用<font color=lightgreen size=4> GradCam</font>概念，使用各類別(y)反向求導，求出對該類別有較大反應的導數所在維度(位於embedding的哪些維度上)~~\n",
    "- Relevance Score * Gradients+\" for each dimension is used as the basis for finding the key dimensions\n",
    "    - [Transformer Interpretability Beyond Attention Visualization](https://github.com/hila-chefer/Transformer-Explainability) \n",
    "    - Relevance Score\n",
    "        -  Tracing back the contributions of input nodes to the final prediction.\n",
    "    - Gradients\n",
    "        - class spesific\n",
    "        - Only positive (+) values are used as a positive interpretation to reflect the category \n",
    "            - np.clip(grads, min=0)\n",
    "\n",
    " \n",
    "\n",
    "- 關鍵特徵的決定採用投票方式\n",
    "    - 採用iNatFT encoder的head(Linear layer)作為分類器(對應\"種\"層級的分類任務)\n",
    "    - 使用GradeCam方法取得各個物種為單位的grad數值\n",
    "    - 取得以\"科\"為單位的導數數值\n",
    "        - 計算以科為單位的 mean/ medium    \n"
   ]
  },
  {
   "cell_type": "code",
   "execution_count": 19,
   "id": "f6f85353-877e-4c17-b6fa-a6e7bf3ab50a",
   "metadata": {},
   "outputs": [
    {
     "data": {
      "text/plain": [
       "['/home/esslab/AI_projects/yunghui/Transformer-Explainability',\n",
       " '/home/esslab/AI_projects/yunghui/mae',\n",
       " '/home/esslab/anaconda3/envs/mae/lib/python39.zip',\n",
       " '/home/esslab/anaconda3/envs/mae/lib/python3.9',\n",
       " '/home/esslab/anaconda3/envs/mae/lib/python3.9/lib-dynload',\n",
       " '',\n",
       " '/home/esslab/anaconda3/envs/mae/lib/python3.9/site-packages',\n",
       " '/home/esslab/anaconda3/envs/mae/lib/python3.9/site-packages/IPython/extensions',\n",
       " '/home/esslab/.ipython']"
      ]
     },
     "execution_count": 19,
     "metadata": {},
     "output_type": "execute_result"
    }
   ],
   "source": [
    "# sys.path.remove('/home/AI_projects/yunghui/Transformer-Explainability')\n",
    "sys.path"
   ]
  },
  {
   "cell_type": "markdown",
   "id": "a149a5d6-0e36-4ea3-9078-5d9eae471cae",
   "metadata": {},
   "source": [
    "## Prepare Model and metadata"
   ]
  },
  {
   "cell_type": "markdown",
   "id": "44102a0c-a680-4a01-931b-144b057a7c5e",
   "metadata": {},
   "source": [
    "### Import \"Transformer-Explainability\" modules for get \"Relevance score\n",
    "- [CVPR 2021] [Official PyTorch implementation for Transformer Interpretability Beyond Attention Visualization, a novel method to visualize classifications by Transformer based networks.](https://arxiv.org/abs/2012.09838)\n"
   ]
  },
  {
   "cell_type": "code",
   "execution_count": 20,
   "id": "7df43fad-814e-4204-a10c-6c8ada794d8a",
   "metadata": {},
   "outputs": [],
   "source": [
    "# adding Transformer-Explainability to the system path\n",
    "sys.path.insert(0, '/home/esslab/AI_projects/yunghui/Transformer-Explainability')\n",
    " \n",
    "from baselines.ViT.ViT_LRP import vit_base_patch16_224 as vit_LRP\n",
    "from baselines.ViT.ViT_explanation_generator import LRP"
   ]
  },
  {
   "cell_type": "markdown",
   "id": "97dcf4ca-cda8-4f03-a948-6a8670a90727",
   "metadata": {},
   "source": [
    "### Load model"
   ]
  },
  {
   "cell_type": "code",
   "execution_count": 21,
   "id": "89003a30-0fa6-40af-bb6a-0e815c5b1c16",
   "metadata": {},
   "outputs": [],
   "source": [
    "def load_encoder(ck, n_classes:int=1486, global_pool:bool=False, encoder_version:str='iNat_FT', **kwargs):\n",
    "    # assert encoder_version == 'eBirdPT' or encoder_version =='iNatFT', f'Encoder_version must be either iNatFT or eBirdPT, got {encoder_version}'\n",
    "    \n",
    "    # model = models_vit.__dict__['vit_base_patch16'](num_classes=n_classes, global_pool=global_pool, )\n",
    "    model = vit_LRP(num_classes=n_classes).cuda()\n",
    "    \n",
    "    checkpoint = torch.load(ck, map_location='cpu')\n",
    "    checkpoint_model = checkpoint['model']\n",
    "    state_dict = model.state_dict()\n",
    "\n",
    "    # interpolate position embedding\n",
    "    interpolate_pos_embed(model, checkpoint_model)\n",
    "\n",
    "    # load pre-trained model\n",
    "    msg = model.load_state_dict(checkpoint_model, strict=False)\n",
    "    print(msg)\n",
    "    \n",
    "    return model"
   ]
  },
  {
   "cell_type": "code",
   "execution_count": 22,
   "id": "4009e6bc-ae9d-4ad0-b03a-36dd3e71e044",
   "metadata": {},
   "outputs": [
    {
     "name": "stdout",
     "output_type": "stream",
     "text": [
      "Encoder  : eBirdFT\n",
      "Embedding version : NPon(Pretrain)_eBirdFTcls(Encoder)_eBirdTop100(Data)\n",
      "Load pre-trained checkpoint from: output_dir/ebird_NPon_eBirdFT_cls11186_vit_base_checkpoint-149.pth\n",
      "<All keys matched successfully>\n"
     ]
    }
   ],
   "source": [
    "encoder_version='eBirdFT' # 'iNatFT', 'eBirdFT' or 'eBirdPT',\n",
    "norm_pixel = 'on'\n",
    "\n",
    "global_pool = False\n",
    "token = 'cls' if global_pool==False else 'gap'\n",
    "data_src = 'eBirdTop100' #  'iNat', 'eBird', 'eBirdTop100'\n",
    "path_model = Path('output_dir')\n",
    "\n",
    "\n",
    "print(f'Encoder  : {encoder_version}')\n",
    "\n",
    "ck = path_model/'ebird_NPon_eBirdFT_cls11186_vit_base_checkpoint-149.pth'  #　eBird finetuned MAE\n",
    "\n",
    "v_embedding = f'NP{norm_pixel}(Pretrain)_{encoder_version}{token}(Encoder)_{data_src}(Data)'\n",
    "print(f'Embedding version : {v_embedding}')\n",
    "\n",
    "\n",
    "n_classes = 11186\n",
    "print(f\"Load pre-trained checkpoint from: {ck}\")\n",
    "model = load_encoder(ck, n_classes=n_classes, encoder_version=encoder_version)\n",
    "\n",
    " "
   ]
  },
  {
   "cell_type": "markdown",
   "id": "6bd60a0d-0e19-4214-9b01-3d9d724f2cd4",
   "metadata": {},
   "source": [
    "### Load metadata "
   ]
  },
  {
   "cell_type": "code",
   "execution_count": 23,
   "id": "52ffb967-c1bc-4112-9fbd-9b4e881645f1",
   "metadata": {},
   "outputs": [
    {
     "name": "stdout",
     "output_type": "stream",
     "text": [
      "# of Order : 41\n",
      "# of Family : 249\n",
      "# of Genus: 2295\n",
      "Index(['Label', 'ML_Catalog_Number', 'Dir_FName', 'Order', 'Family', 'Genus',\n",
      "       'SCI_NAME_2021', 'Sci_Name', 'Parent_Species', 'Taxon_Category',\n",
      "       'Country', 'Latitude', 'Longitude', 'Year', 'Month', 'Day'],\n",
      "      dtype='object')\n",
      "CPU times: user 6.13 s, sys: 4.99 s, total: 11.1 s\n",
      "Wall time: 7.85 s\n"
     ]
    }
   ],
   "source": [
    "%%time\n",
    "\n",
    "data_path = '../../shared/eBird/download_ebird/downloaded'\n",
    "val_data = 'jpg_top100'\n",
    "meta_data =  '../../shared/eBird/download_ebird/meta/jpg_top100_meta5.feather'\n",
    "df_meta =  pd.read_feather(meta_data)\n",
    "\n",
    "\n",
    "# Establish sp_id  \n",
    "\n",
    "col_obj2cat = ['Format', 'Accessory', 'Asset_State', 'isInternalUser', 'mediaDownloadUrl', 'Playback', 'Microphone', 'Recorder', 'Taxon_Category', \n",
    "               'Age/Sex', 'Asset_Tags', 'Order', 'Behaviors', 'Country', 'Parent_Dir', 'Family', 'Background_Species', 'Genus', 'State', 'County']\n",
    "for col in col_obj2cat :\n",
    "    df_meta[col] =  df_meta[col].astype('category') \n",
    "\n",
    "col_label = ['Label'] \n",
    "col_basic = ['ML_Catalog_Number', 'Dir_FName']\n",
    "col_file = ['Dir_FName', 'Parent_Dir', 'Sci_N']\n",
    "col_taxon = ['Order', 'Family', 'Genus', 'SCI_NAME_2021', 'Sci_Name', 'Parent_Species', 'Taxon_Category']\n",
    "col_geo = ['Country', 'Latitude', 'Longitude']\n",
    "col_time = ['Year', 'Month', 'Day']\n",
    "col_sel = col_label + col_basic + col_taxon + col_geo + col_time\n",
    "df_meta = df_meta[col_sel].copy()\n",
    "\n",
    "print(f'# of Order : {df_meta.Order.nunique()}')\n",
    "print(f'# of Family : {df_meta.Family.nunique()}')\n",
    "print(f'# of Genus: {df_meta.Genus.nunique()}')\n",
    "\n",
    "print(df_meta.columns)"
   ]
  },
  {
   "cell_type": "code",
   "execution_count": 24,
   "id": "ce9007d3-413b-4486-9cd5-bb5929ae3e64",
   "metadata": {},
   "outputs": [
    {
     "name": "stdout",
     "output_type": "stream",
     "text": [
      "CPU times: user 2.3 s, sys: 2.99 s, total: 5.29 s\n",
      "Wall time: 2.06 s\n"
     ]
    },
    {
     "data": {
      "text/html": [
       "<div>\n",
       "<style scoped>\n",
       "    .dataframe tbody tr th:only-of-type {\n",
       "        vertical-align: middle;\n",
       "    }\n",
       "\n",
       "    .dataframe tbody tr th {\n",
       "        vertical-align: top;\n",
       "    }\n",
       "\n",
       "    .dataframe thead th {\n",
       "        text-align: right;\n",
       "    }\n",
       "</style>\n",
       "<table border=\"1\" class=\"dataframe\">\n",
       "  <thead>\n",
       "    <tr style=\"text-align: right;\">\n",
       "      <th></th>\n",
       "      <th>Label</th>\n",
       "      <th>Dir_class</th>\n",
       "    </tr>\n",
       "  </thead>\n",
       "  <tbody>\n",
       "    <tr>\n",
       "      <th>0</th>\n",
       "      <td>3090</td>\n",
       "      <td>Acanthisitta_chloris</td>\n",
       "    </tr>\n",
       "    <tr>\n",
       "      <th>100</th>\n",
       "      <td>3091</td>\n",
       "      <td>Xenicus_gilviventris</td>\n",
       "    </tr>\n",
       "    <tr>\n",
       "      <th>200</th>\n",
       "      <td>3092</td>\n",
       "      <td>Acanthiza_apicalis</td>\n",
       "    </tr>\n",
       "    <tr>\n",
       "      <th>300</th>\n",
       "      <td>3093</td>\n",
       "      <td>Acanthiza_chrysorrhoa</td>\n",
       "    </tr>\n",
       "    <tr>\n",
       "      <th>400</th>\n",
       "      <td>3094</td>\n",
       "      <td>Acanthiza_cinerea</td>\n",
       "    </tr>\n",
       "    <tr>\n",
       "      <th>...</th>\n",
       "      <td>...</td>\n",
       "      <td>...</td>\n",
       "    </tr>\n",
       "    <tr>\n",
       "      <th>896502</th>\n",
       "      <td>9656</td>\n",
       "      <td>Zosterornis_hypogrammicus</td>\n",
       "    </tr>\n",
       "    <tr>\n",
       "      <th>896512</th>\n",
       "      <td>9657</td>\n",
       "      <td>Zosterornis_latistriatus</td>\n",
       "    </tr>\n",
       "    <tr>\n",
       "      <th>896515</th>\n",
       "      <td>9658</td>\n",
       "      <td>Zosterornis_nigrorum</td>\n",
       "    </tr>\n",
       "    <tr>\n",
       "      <th>896519</th>\n",
       "      <td>9659</td>\n",
       "      <td>Zosterornis_striatus</td>\n",
       "    </tr>\n",
       "    <tr>\n",
       "      <th>896527</th>\n",
       "      <td>9660</td>\n",
       "      <td>Zosterornis_whiteheadi</td>\n",
       "    </tr>\n",
       "  </tbody>\n",
       "</table>\n",
       "<p>11187 rows × 2 columns</p>\n",
       "</div>"
      ],
      "text/plain": [
       "        Label                  Dir_class\n",
       "0        3090       Acanthisitta_chloris\n",
       "100      3091       Xenicus_gilviventris\n",
       "200      3092         Acanthiza_apicalis\n",
       "300      3093      Acanthiza_chrysorrhoa\n",
       "400      3094          Acanthiza_cinerea\n",
       "...       ...                        ...\n",
       "896502   9656  Zosterornis_hypogrammicus\n",
       "896512   9657   Zosterornis_latistriatus\n",
       "896515   9658       Zosterornis_nigrorum\n",
       "896519   9659       Zosterornis_striatus\n",
       "896527   9660     Zosterornis_whiteheadi\n",
       "\n",
       "[11187 rows x 2 columns]"
      ]
     },
     "execution_count": 24,
     "metadata": {},
     "output_type": "execute_result"
    }
   ],
   "source": [
    "%%time\n",
    "\n",
    "col_label = ['Label', 'Dir_class']\n",
    "df_label_= pd.read_feather(meta_data)[col_label].drop_duplicates(subset=col_label) \n",
    "df_label_"
   ]
  },
  {
   "cell_type": "code",
   "execution_count": 25,
   "id": "17b74022-c619-4d43-9708-ba237d23c8c2",
   "metadata": {},
   "outputs": [
    {
     "name": "stdout",
     "output_type": "stream",
     "text": [
      "11186\n"
     ]
    }
   ],
   "source": [
    "CLS2IDX_ = (df_label_.sort_values(by=['Label']).dropna(subset=['Dir_class']))\n",
    "CLS2IDX = {l_: cls_ for l_, cls_ in zip(CLS2IDX_.Label.values, CLS2IDX_.Dir_class.values)}\n",
    "print(len(CLS2IDX))\n",
    "IDX2CLS = {cls_: l_  for l_, cls_ in zip(CLS2IDX_.Label.values, CLS2IDX_.Dir_class.values)}"
   ]
  },
  {
   "cell_type": "markdown",
   "id": "69396139-5a65-41a7-8909-a639f3e81330",
   "metadata": {},
   "source": [
    "#### Load Embedding"
   ]
  },
  {
   "cell_type": "code",
   "execution_count": 72,
   "id": "c530f094-d629-42dc-8769-60a1c78b9001",
   "metadata": {},
   "outputs": [
    {
     "name": "stdout",
     "output_type": "stream",
     "text": [
      "embeddings_NPon(Pretrain)_eBirdFTcls(Encoder)_eBirdTop100(Data).npz\n",
      "(896555, 768)\n",
      "CPU times: user 14.6 s, sys: 887 ms, total: 15.5 s\n",
      "Wall time: 15.5 s\n"
     ]
    }
   ],
   "source": [
    "%%time\n",
    "file_ = f'embeddings_{v_embedding}.npz'\n",
    "print(f'{file_}')\n",
    "embeddings = np.load(path_embeddings/file_)['embedding']\n",
    "print(embeddings.shape)\n"
   ]
  },
  {
   "cell_type": "markdown",
   "id": "69fcf57b-794c-4c08-a7d6-0fc09d1b9d2b",
   "metadata": {},
   "source": [
    "## Get LPR * grad from last layer"
   ]
  },
  {
   "cell_type": "code",
   "execution_count": 27,
   "id": "6414daf2-0c40-416e-b25e-6be2aaa67324",
   "metadata": {},
   "outputs": [],
   "source": [
    "from timm.data.constants import IMAGENET_DEFAULT_MEAN, IMAGENET_DEFAULT_STD\n",
    "\n",
    "mean, std = IMAGENET_DEFAULT_MEAN, IMAGENET_DEFAULT_STD\n",
    "# simple augmentation\n",
    "transform = transforms.Compose([transforms.Resize(256), \n",
    "                                         transforms.CenterCrop(224), \n",
    "                                         transforms.ToTensor(), \n",
    "                                         transforms.Normalize(mean, std)])"
   ]
  },
  {
   "cell_type": "code",
   "execution_count": 28,
   "id": "0af164bb-eb19-4643-b46c-75d5d40133c4",
   "metadata": {},
   "outputs": [],
   "source": [
    "image = Image.open('temp/seabird_2.jpg').convert('RGB') \n",
    "image_ = transform(image)\n",
    "inputs = image_.unsqueeze(0).cuda()"
   ]
  },
  {
   "cell_type": "markdown",
   "id": "726d53d4-fc43-4b2d-9b09-add86b18e003",
   "metadata": {},
   "source": [
    "#### def get_LPR_score_head()"
   ]
  },
  {
   "cell_type": "code",
   "execution_count": 29,
   "id": "391698d2-9abf-4064-95af-2b0bf3f17a88",
   "metadata": {},
   "outputs": [],
   "source": [
    "\n",
    "def get_LPR_score_head(inputs_, model, index=None, \n",
    "                       method=\"transformer_attribution\", is_ablation=False, start_layer=0, **kwargs) ->torch.tensor: \n",
    "\n",
    "    kwargs = {\"alpha\": 1}\n",
    "    output = model(inputs_)\n",
    "    if index is None : \n",
    "        index = np.argmax(output.cpu().data.numpy(), axis=-1)\n",
    "\n",
    "    one_hot = np.zeros((1, output.size()[-1]), dtype=np.float32)\n",
    "    one_hot[0, index] = 1\n",
    "    one_hot_vector = one_hot\n",
    "    one_hot = torch.from_numpy(one_hot).requires_grad_(True)\n",
    "    one_hot_sum = torch.sum(one_hot.cuda() * output)\n",
    "    model.zero_grad()\n",
    "    one_hot_sum.backward(retain_graph=True)\n",
    "\n",
    "    rel_score  = model.head.relprop(torch.tensor(one_hot_vector).to(inputs_.device), **kwargs) # shape : (batch, dim). dim=768\n",
    "\n",
    "    return rel_score"
   ]
  },
  {
   "cell_type": "code",
   "execution_count": 30,
   "id": "56c8c12b-301a-46ed-a625-0d82a1f0a7ba",
   "metadata": {},
   "outputs": [
    {
     "name": "stdout",
     "output_type": "stream",
     "text": [
      "torch.Size([1, 768])\n"
     ]
    }
   ],
   "source": [
    "rel_score_  = get_LPR_score_head(inputs, model, index=None)\n",
    "print(rel_score_.shape)"
   ]
  },
  {
   "cell_type": "code",
   "execution_count": 154,
   "id": "c5d32edb-3092-4887-9fd2-43c9a8cf320c",
   "metadata": {},
   "outputs": [
    {
     "name": "stdout",
     "output_type": "stream",
     "text": [
      "torch.Size([1, 768])\n"
     ]
    }
   ],
   "source": [
    "rel_score_ = model.head.relprop(torch.tensor(one_hot_vector).to(input.device), **kwargs) # shape : (batch, dim). dim=768\n",
    "print(rel_score_.shape)"
   ]
  },
  {
   "cell_type": "code",
   "execution_count": 112,
   "id": "8e6e95a0-a5a0-49cc-8dbf-0f09243cb383",
   "metadata": {},
   "outputs": [
    {
     "data": {
      "text/plain": [
       "[<matplotlib.lines.Line2D at 0x7f4069efa6a0>]"
      ]
     },
     "execution_count": 112,
     "metadata": {},
     "output_type": "execute_result"
    },
    {
     "data": {
      "image/png": "[encoded data removed]",
      "text/plain": [
       "<Figure size 432x288 with 1 Axes>"
      ]
     },
     "metadata": {
      "needs_background": "light"
     },
     "output_type": "display_data"
    }
   ],
   "source": [
    "plt.plot(rel_score_head.reshape(-1).cpu().data.numpy())"
   ]
  },
  {
   "cell_type": "markdown",
   "id": "f81a95f9-28d7-4990-8daa-e4f592cebb1a",
   "metadata": {},
   "source": [
    "#### def get_grad_head()"
   ]
  },
  {
   "cell_type": "code",
   "execution_count": 31,
   "id": "fc4fffed-7c65-446d-83f9-558516555f33",
   "metadata": {},
   "outputs": [],
   "source": [
    "def get_grad_head(inputs_, model, index=None, **kwargs)->torch.tensor:\n",
    "    embedding_ = model.forward_features(inputs_) # shape:(n_batch, dim). \n",
    "    features_ =  embedding_.clone().detach().to(inputs_.device).requires_grad_(True)\n",
    "    pred = model.head(features_)  # (n_batch, n_classe)\n",
    "\n",
    "    # Whether to use the ground truth label, or predicted by model\n",
    "    if index is None :               \n",
    "        index = np.argmax(pred.detach().cpu().numpy(), axis=1)  # return (n_batch, n_classes)\n",
    "\n",
    "    # one_hot encoding labels \n",
    "    one_hot = F.one_hot(torch.tensor(index).clone().detach() , num_classes=n_classes).to(inputs_.device) # (n_batch, n_classe)\n",
    "    pred.backward(one_hot)                             \n",
    "\n",
    "    # grads of embeddings. shape:(n_batch, dim). \n",
    "    inputs_grad_ = features_.grad.clone().detach()\n",
    "    return inputs_grad_"
   ]
  },
  {
   "cell_type": "code",
   "execution_count": 14,
   "id": "9a1c8341-55ba-4129-a006-1484b251ce0e",
   "metadata": {},
   "outputs": [
    {
     "data": {
      "text/plain": [
       "torch.Size([1, 768])"
      ]
     },
     "execution_count": 14,
     "metadata": {},
     "output_type": "execute_result"
    }
   ],
   "source": [
    "grad_ = get_grad_head(image_.unsqueeze(0).cuda(), model)\n",
    "grad_.shape"
   ]
  },
  {
   "cell_type": "code",
   "execution_count": 32,
   "id": "a426ffd6-c1f6-4470-bde1-4821ab1dcf94",
   "metadata": {},
   "outputs": [
    {
     "name": "stdout",
     "output_type": "stream",
     "text": [
      "Original data size : 896,555  After filter \"label > 0\" : 896,195\n"
     ]
    }
   ],
   "source": [
    "# filter label > 0\n",
    "mask_label_positive = df_meta.Label >= 0\n",
    "\n",
    "data_path = '../../shared/eBird/download_ebird/downloaded'\n",
    "val_data = 'jpg_top100'\n",
    "meta_data =  '../../shared/eBird/download_ebird/meta/jpg_top100_meta5.feather'\n",
    "files_path_  = list(data_path + '/' +  val_data + '/' + df_meta[mask_label_positive].Dir_FName\t+ '.jpg')\n",
    "labels = df_meta[mask_label_positive].Label.values\n",
    "print(f'Original data size : {len(df_meta):,d}  After filter \"label > 0\" : {len(files_path_):,d}')\n",
    "assert len(files_path_) == len(labels)\n",
    "assert  df_meta.Label.dtype == 'int64'"
   ]
  },
  {
   "cell_type": "code",
   "execution_count": 35,
   "id": "d52bfb56-e774-4dca-8919-88ee4817c373",
   "metadata": {},
   "outputs": [
    {
     "name": "stdout",
     "output_type": "stream",
     "text": [
      "896195\n",
      "8962\n"
     ]
    }
   ],
   "source": [
    "\n",
    "batch_size = 100\n",
    "dataset = datasets.ImageDatasetFromFile(files_path_, labels, transform=transform)\n",
    "print(len(dataset))\n",
    "\n",
    "# sampler = torch.utils.data.RandomSampler(dataset)\n",
    "data_loader = torch.utils.data.DataLoader(\n",
    "        dataset, pin_memory=True, drop_last=False, shuffle=False,\n",
    "        num_workers=10,  batch_size=batch_size,)\n",
    "print(len(data_loader))"
   ]
  },
  {
   "cell_type": "markdown",
   "id": "8a99784a-35f6-402d-9eec-29fae6c91897",
   "metadata": {},
   "source": [
    "### Get LPR * grad for all data"
   ]
  },
  {
   "cell_type": "code",
   "execution_count": 14,
   "id": "71d6af9f-1c1a-4e2e-83a3-71d549166a33",
   "metadata": {
    "jupyter": {
     "source_hidden": true
    },
    "tags": []
   },
   "outputs": [
    {
     "name": "stdout",
     "output_type": "stream",
     "text": [
      "CPU times: user 3h 24min 23s, sys: 1h 54min 46s, total: 5h 19min 10s47. \n",
      "Wall time: 3h 40min 47s\n"
     ]
    }
   ],
   "source": [
    "# %%time\n",
    "\n",
    "# device = torch.device('cuda' if torch.cuda.is_available() else 'cpu')\n",
    "# start_time = time.time()\n",
    "# for i, (imgs, labels)  in enumerate(data_loader):\n",
    "\n",
    "#     imgs = imgs.to(device, non_blocking=True)\n",
    "#     rel_score_  = get_LPR_score_head(imgs, model, index=labels.numpy())\n",
    "#     grad_ = get_grad_head(imgs, model, index=labels.numpy())\n",
    "#     rel_grad_ = (torch.clip( grad_, min=0)*rel_score_).cpu().data.numpy()\n",
    "\n",
    "#     rel_grads = rel_grad_ if i == 0 else np.concatenate((rel_grads, rel_grad_), axis=0) \n",
    "    \n",
    "#     passing_time = str(datetime.timedelta(seconds=int(time.time() - start_time )))\n",
    "#     info = f'Progress:{i+1:4d}, {100*(i+1)/len(data_loader):3.2f}%. ' \n",
    "#     info += f'| Feature_shape: {rel_grads.shape}.' \n",
    "#     info += f'| Time: {passing_time}. '\n",
    "#     print(info, end='\\r')\n",
    "#     # if i>10 :break\n"
   ]
  },
  {
   "cell_type": "code",
   "execution_count": 37,
   "id": "55df7db7-bc11-4042-9d96-f71105e74df9",
   "metadata": {
    "tags": []
   },
   "outputs": [
    {
     "name": "stdout",
     "output_type": "stream",
     "text": [
      "rel_grads_NPon(Pretrain)_eBirdFTcls(Encoder)_eBirdTop100(Data).npz\n",
      "(896195, 768)\n",
      "CPU times: user 11.4 s, sys: 543 ms, total: 12 s\n",
      "Wall time: 12 s\n"
     ]
    }
   ],
   "source": [
    "%%time\n",
    "file_ = f'rel_grads_{v_embedding}.npz'\n",
    "print(f'{file_}')\n",
    "# np.savez_compressed(path_embeddings/file_, rel_grads=rel_grads)\n",
    "# print(f'{file_} saved')\n",
    "# np.save(path_embeddings.joinpath(file_) , embeddings)\n",
    "rel_grads = np.load(path_embeddings/file_)['rel_grads']\n",
    "print(rel_grads.shape)\n"
   ]
  },
  {
   "cell_type": "code",
   "execution_count": 83,
   "id": "9246e4d7-b254-4478-96f1-2e891769a225",
   "metadata": {},
   "outputs": [
    {
     "data": {
      "text/html": [
       "<div>\n",
       "<style scoped>\n",
       "    .dataframe tbody tr th:only-of-type {\n",
       "        vertical-align: middle;\n",
       "    }\n",
       "\n",
       "    .dataframe tbody tr th {\n",
       "        vertical-align: top;\n",
       "    }\n",
       "\n",
       "    .dataframe thead th {\n",
       "        text-align: right;\n",
       "    }\n",
       "</style>\n",
       "<table border=\"1\" class=\"dataframe\">\n",
       "  <thead>\n",
       "    <tr style=\"text-align: right;\">\n",
       "      <th></th>\n",
       "      <th>0</th>\n",
       "    </tr>\n",
       "  </thead>\n",
       "  <tbody>\n",
       "    <tr>\n",
       "      <th>count</th>\n",
       "      <td>6.882778e+08</td>\n",
       "    </tr>\n",
       "    <tr>\n",
       "      <th>mean</th>\n",
       "      <td>1.306675e-04</td>\n",
       "    </tr>\n",
       "    <tr>\n",
       "      <th>std</th>\n",
       "      <td>4.420232e-04</td>\n",
       "    </tr>\n",
       "    <tr>\n",
       "      <th>min</th>\n",
       "      <td>0.000000e+00</td>\n",
       "    </tr>\n",
       "    <tr>\n",
       "      <th>25%</th>\n",
       "      <td>0.000000e+00</td>\n",
       "    </tr>\n",
       "    <tr>\n",
       "      <th>50%</th>\n",
       "      <td>0.000000e+00</td>\n",
       "    </tr>\n",
       "    <tr>\n",
       "      <th>75%</th>\n",
       "      <td>4.659505e-05</td>\n",
       "    </tr>\n",
       "    <tr>\n",
       "      <th>max</th>\n",
       "      <td>6.441317e-02</td>\n",
       "    </tr>\n",
       "  </tbody>\n",
       "</table>\n",
       "</div>"
      ],
      "text/plain": [
       "                  0\n",
       "count  6.882778e+08\n",
       "mean   1.306675e-04\n",
       "std    4.420232e-04\n",
       "min    0.000000e+00\n",
       "25%    0.000000e+00\n",
       "50%    0.000000e+00\n",
       "75%    4.659505e-05\n",
       "max    6.441317e-02"
      ]
     },
     "execution_count": 83,
     "metadata": {},
     "output_type": "execute_result"
    }
   ],
   "source": [
    "pd.DataFrame(rel_grads.reshape(-1)).describe()"
   ]
  },
  {
   "cell_type": "code",
   "execution_count": 95,
   "id": "ab1cc03e-7c44-4bbe-b085-c058076265e0",
   "metadata": {},
   "outputs": [
    {
     "name": "stdout",
     "output_type": "stream",
     "text": [
      "CPU times: user 6.81 s, sys: 343 µs, total: 6.81 s\n",
      "Wall time: 6.81 s\n"
     ]
    },
    {
     "data": {
      "text/plain": [
       "(array([6.71848334e+08, 1.19329630e+07, 2.91788000e+06, 9.44210000e+05,\n",
       "        3.55650000e+05, 1.47951000e+05, 6.62170000e+04, 3.11050000e+04,\n",
       "        1.53850000e+04, 7.98800000e+03, 4.31400000e+03, 2.39500000e+03,\n",
       "        1.37000000e+03, 7.72000000e+02, 4.63000000e+02, 2.99000000e+02,\n",
       "        1.66000000e+02, 1.11000000e+02, 6.90000000e+01, 4.80000000e+01,\n",
       "        2.10000000e+01, 1.30000000e+01, 8.00000000e+00, 6.00000000e+00,\n",
       "        5.00000000e+00, 5.00000000e+00, 2.00000000e+00, 4.00000000e+00,\n",
       "        2.00000000e+00, 1.00000000e+00, 0.00000000e+00, 1.00000000e+00,\n",
       "        0.00000000e+00, 0.00000000e+00, 0.00000000e+00, 1.00000000e+00,\n",
       "        0.00000000e+00, 0.00000000e+00, 0.00000000e+00, 0.00000000e+00,\n",
       "        0.00000000e+00, 0.00000000e+00, 0.00000000e+00, 0.00000000e+00,\n",
       "        0.00000000e+00, 0.00000000e+00, 0.00000000e+00, 0.00000000e+00,\n",
       "        0.00000000e+00, 1.00000000e+00]),\n",
       " array([0.        , 0.00128826, 0.00257653, 0.00386479, 0.00515305,\n",
       "        0.00644132, 0.00772958, 0.00901784, 0.01030611, 0.01159437,\n",
       "        0.01288263, 0.0141709 , 0.01545916, 0.01674742, 0.01803569,\n",
       "        0.01932395, 0.02061221, 0.02190048, 0.02318874, 0.024477  ,\n",
       "        0.02576527, 0.02705353, 0.02834179, 0.02963006, 0.03091832,\n",
       "        0.03220658, 0.03349485, 0.03478311, 0.03607138, 0.03735964,\n",
       "        0.0386479 , 0.03993616, 0.04122443, 0.04251269, 0.04380095,\n",
       "        0.04508922, 0.04637748, 0.04766575, 0.04895401, 0.05024227,\n",
       "        0.05153053, 0.0528188 , 0.05410706, 0.05539532, 0.05668359,\n",
       "        0.05797185, 0.05926012, 0.06054838, 0.06183664, 0.0631249 ,\n",
       "        0.06441317], dtype=float32),\n",
       " <BarContainer object of 50 artists>)"
      ]
     },
     "execution_count": 95,
     "metadata": {},
     "output_type": "execute_result"
    },
    {
     "data": {
      "image/png": "[encoded data removed]",
      "text/plain": [
       "<Figure size 432x288 with 1 Axes>"
      ]
     },
     "metadata": {
      "needs_background": "light"
     },
     "output_type": "display_data"
    }
   ],
   "source": [
    "%%time\n",
    "plt.hist(rel_grads.reshape(-1) ,bins=50);"
   ]
  },
  {
   "cell_type": "code",
   "execution_count": 92,
   "id": "2077044c-aa28-4fff-b5ad-e493a7a2e7a6",
   "metadata": {},
   "outputs": [
    {
     "name": "stdout",
     "output_type": "stream",
     "text": [
      "CPU times: user 49.1 s, sys: 877 ms, total: 50 s\n",
      "Wall time: 50 s\n"
     ]
    },
    {
     "data": {
      "text/plain": [
       "''"
      ]
     },
     "execution_count": 92,
     "metadata": {},
     "output_type": "execute_result"
    },
    {
     "data": {
      "image/png": "[encoded data removed]",
      "text/plain": [
       "<Figure size 1512x1324.8 with 8 Axes>"
      ]
     },
     "metadata": {
      "needs_background": "light"
     },
     "output_type": "display_data"
    }
   ],
   "source": [
    "%%time\n",
    "interval = 100\n",
    "n, d = rel_grads.shape\n",
    "start=0\n",
    "row=int(np.ceil(d/interval))\n",
    "h = row*2.3\n",
    "fig, axs = plt.subplots(row,figsize=(21,h))\n",
    "for r in range(row):\n",
    "    slice_ = rel_grads[:, start : start+interval]\n",
    "    axs[r].boxplot(slice_)\n",
    "    axs[r].set_title(f'Dim_{start}:{start+interval}', y=0.8)\n",
    "    axs[r].tick_params(axis='x', labelrotation=90)\n",
    "    axs[r].set_xlabel('xlabel', fontsize=3)\n",
    "    axs[r].set_ylim([0, 0.05])\n",
    "    start += interval\n",
    ";"
   ]
  },
  {
   "cell_type": "code",
   "execution_count": 93,
   "id": "4685f4b3-c6c4-468a-848c-0c30d46a7d14",
   "metadata": {},
   "outputs": [
    {
     "name": "stdout",
     "output_type": "stream",
     "text": [
      "CPU times: user 3min 39s, sys: 1min 36s, total: 5min 15s\n",
      "Wall time: 23.2 s\n"
     ]
    },
    {
     "name": "stderr",
     "output_type": "stream",
     "text": [
      "<timed exec>:15: UserWarning: Attempted to set non-positive bottom ylim on a log-scaled axis.\n",
      "Invalid limit will be ignored.\n"
     ]
    },
    {
     "data": {
      "text/plain": [
       "''"
      ]
     },
     "execution_count": 93,
     "metadata": {},
     "output_type": "execute_result"
    },
    {
     "data": {
      "image/png": "[encoded data removed]",
      "text/plain": [
       "<Figure size 432x288 with 1 Axes>"
      ]
     },
     "metadata": {
      "needs_background": "light"
     },
     "output_type": "display_data"
    }
   ],
   "source": [
    "%%time\n",
    "title = f'Correlation_Of_Rel_grads\\n{v_embedding}'\n",
    "\n",
    "corr_matrix = np.corrcoef(np.transpose(rel_grads))\n",
    "# mask =  np.triu(np.ones_like(corr_matrix, dtype=bool))\n",
    "\n",
    "xlim=(-1,1)\n",
    "ylim=(0,1e6)\n",
    "figsize = (6,4)\n",
    "\n",
    "fig, ax = plt.subplots(figsize = figsize )\n",
    "ax.hist(np.tril(corr_matrix ,k=-1).reshape(-1,1), bins=100)\n",
    "\n",
    "ax.grid(True)\n",
    "ax.set_yscale('log')\n",
    "ax.set(title=title,  ylabel='Frequency',  xlim=xlim, ylim=ylim)\n",
    ";"
   ]
  },
  {
   "cell_type": "markdown",
   "id": "db1ec0c9-a92e-4e69-b788-6d7d78e76532",
   "metadata": {
    "tags": []
   },
   "source": [
    "# Determine key features by voting on 'Family' level\n",
    "根據分類層級(科)投票決定關鍵特徵"
   ]
  },
  {
   "cell_type": "markdown",
   "id": "ea1c85fa-3777-4b43-9976-f090c14c5e21",
   "metadata": {},
   "source": [
    "### Mean of Concern Degree about Features on species/genus\n",
    "- 找出每科的 top N 個重要分類特徵 (i.e. 對分科有最大影響力的 top N 維度)，並將所有科的重要特徵取聯集，得到 N-union 個關鍵特徵。我們視低維度的關鍵特徵為同時具有分辨力 (recognition) 與代表性 (representation) 的蛾標本影像特徵，並用於後續的分析與視覺化的解釋。\n",
    "- 我們借用 Grad-CAM 的概念以找出分科的重要外觀特徵，透過反向傳播演算法 (back propagation) 求出分科模型中對應於每個輸入值的 gradient vector，是為特徵關注度向量。我們在此計算每個物種的平均特徵關注度，並以 voting 的方式，決定每個科的重要特徵。\n",
    "- Voting 的規則是，先從物種平均特徵關注度的向量中，找出最大的 N 個值的位置，每個位置視為得到一票；接著算出每個科當中總得票最高的N個位置，即可選出 N 個重要特徵。最後將所有科的重要特徵取聯集，得到 N-union 個關鍵特徵。 "
   ]
  },
  {
   "cell_type": "markdown",
   "id": "7fe80a4b-8b04-460b-ab3c-148aa3a061b8",
   "metadata": {},
   "source": [
    "#### family_list, fam2digit"
   ]
  },
  {
   "cell_type": "code",
   "execution_count": 38,
   "id": "f12cbf49-4153-42c5-b19d-e21d69558d3f",
   "metadata": {},
   "outputs": [
    {
     "name": "stdout",
     "output_type": "stream",
     "text": [
      "249\n",
      "labels  : (896195,)\n",
      "n_classes  : 249\n"
     ]
    }
   ],
   "source": [
    "# filter label > 0\n",
    "mask_label_positive = df_meta.Label >= 0\n",
    "\n",
    "family_list = list(df_meta.Family.dropna().unique())\n",
    "family_list.sort()\n",
    "print(len(family_list))\n",
    "\n",
    "fam2digit = dict(zip(family_list, range(len(family_list))))\n",
    "fam2digit.items()\n",
    "\n",
    "labels = df_meta[mask_label_positive].Family.map(fam2digit).values  # 科名編碼\n",
    "print(f'labels  : {labels.shape}')\n",
    "\n",
    "n_classes = len(fam2digit)\n",
    "print(f'n_classes  : {n_classes}')"
   ]
  },
  {
   "cell_type": "markdown",
   "id": "ae066bc9-7623-41bf-864c-f94dd09d26f3",
   "metadata": {},
   "source": [
    "- 建立:科-物種\"索引"
   ]
  },
  {
   "cell_type": "code",
   "execution_count": 39,
   "id": "bc569cdd-8947-449b-a3e0-b6d632585fba",
   "metadata": {},
   "outputs": [],
   "source": [
    "metric = 'Median' # 'Mean', 'Median'"
   ]
  },
  {
   "cell_type": "code",
   "execution_count": 40,
   "id": "91f8c1c0-35bb-460d-9484-e81fbefbe0fb",
   "metadata": {},
   "outputs": [],
   "source": [
    "\n",
    "def pool_grads(grads, taxon_list:list=None, metric:str='Mean', df:pd.DataFrame=None ):\n",
    "    \n",
    "    for i, cls_ in enumerate(taxon_list):\n",
    "        index  = df.query(f\"{taxon_unit} == @cls_\").index.values\n",
    "            \n",
    "        if metric == 'Median':\n",
    "            grads_pool_ = np.median(grads[index], axis=0).reshape(1,-1)\n",
    "        elif  metric == 'Mean':\n",
    "            grad_pool_ = np.mean(grads[index], axis=0).reshape(1,-1)\n",
    "\n",
    "        grads_pool = grads_pool_ if i == 0 else  np.concatenate([grads_pool_, grads_pool])\n",
    "    \n",
    "        print(f'{i:4,d}. shape : {grads_pool.shape} |  {taxon_unit} - {cls_} ', end='\\r')\n",
    "    return grads_pool\n",
    "    "
   ]
  },
  {
   "cell_type": "markdown",
   "id": "9c9f4acd-67fd-450b-b78a-8059be32d7da",
   "metadata": {},
   "source": [
    "- Species"
   ]
  },
  {
   "cell_type": "code",
   "execution_count": 118,
   "id": "44e03787-b192-479a-afd7-f5fc1b06513d",
   "metadata": {},
   "outputs": [],
   "source": []
  },
  {
   "cell_type": "code",
   "execution_count": 41,
   "id": "eeacc1e1-f73e-48b6-b287-0371f3b4d2b8",
   "metadata": {},
   "outputs": [
    {
     "name": "stdout",
     "output_type": "stream",
     "text": [
      "11,185. shape : (11186, 768) |  Label - 11185 \n",
      " (11186, 768)\n",
      "CPU times: user 1min 19s, sys: 4.42 s, total: 1min 24s\n",
      "Wall time: 1min 21s\n"
     ]
    }
   ],
   "source": [
    "%%time\n",
    "\n",
    "taxon_unit = 'Label' # Species\n",
    "taxon_list = np.sort(df_meta[mask_label_positive][taxon_unit].dropna().unique())\n",
    "df_ = df_meta[mask_label_positive].reset_index()  \n",
    "\n",
    "# grads_sp_mean = pool_grads(grads, taxon_list , metric, df=df_ )\n",
    "grads_sp_mean = pool_grads(rel_grads, taxon_list , metric, df=df_ )\n",
    "print('\\n', grads_sp_mean.shape)"
   ]
  },
  {
   "cell_type": "markdown",
   "id": "b3ff1567-f0bd-4f1f-acac-16016b48e1ef",
   "metadata": {},
   "source": [
    "- Genus"
   ]
  },
  {
   "cell_type": "code",
   "execution_count": 42,
   "id": "3b5f49b7-b20e-43d1-8b2e-da5253eaabb5",
   "metadata": {},
   "outputs": [
    {
     "name": "stdout",
     "output_type": "stream",
     "text": [
      "2,294. shape : (2295, 768) |  Genus - Zosterornis is   s \n",
      " (2295, 768)\n",
      "CPU times: user 26.7 s, sys: 229 ms, total: 26.9 s\n",
      "Wall time: 26.5 s\n"
     ]
    }
   ],
   "source": [
    "%%time\n",
    "taxon_unit = 'Genus'\n",
    "taxon_list = np.sort(df_meta[mask_label_positive][taxon_unit].dropna().unique())\n",
    "df_ = df_meta[mask_label_positive].reset_index()  \n",
    "\n",
    "grads_genus_mean = pool_grads(rel_grads, taxon_list , metric, df=df_ )\n",
    "print('\\n', grads_genus_mean.shape)"
   ]
  },
  {
   "cell_type": "markdown",
   "id": "feb2149c-e007-4599-a1ac-994517a9bec5",
   "metadata": {},
   "source": [
    "### 找出關鍵特徵數量(N-union)\n",
    "- 以最小但又具足夠鑑別度的 N 與 N-union 來描述與代表科的特徵。我們窮舉 N = 1 ~ n_topk 這個範圍中對應的 N-union 個關鍵特徵。\n",
    "- 基於每個物種在關鍵特徵空間中的 embedding，依科計算分群的三個指標 (Silhouette Coefficient, Calinski and Harabasz score, 與 Davies-Bouldin score)\n",
    "    - 標準化並加總評估後得到當 N=-, N-union=- 時有最佳的科分群結果，約為總特徵數的 - % (-/768)。"
   ]
  },
  {
   "cell_type": "markdown",
   "id": "35c17109-c1af-484b-b61f-895ed11aed2e",
   "metadata": {
    "tags": []
   },
   "source": [
    "#### Convert the \"Degree of Concern about Features\" to \"Key Features\" on mean of species \n",
    "\n",
    "- 物種均值的特徵關注度(top_n)\n",
    "    - 在物種層級指定top_n個重要維度\n",
    "    - 蒐集對應top_n特徵對應的特徵位置指標\n",
    "    - 依據top_n位置將關注度值轉為one_hot編碼(1 or 0)\n",
    "    - 得到以物種均值為單位的one hot編碼格式的特徵關注度數值(即每個物種1票)\n",
    "- 儲存 對應的 top_n: index_N of Spesies"
   ]
  },
  {
   "cell_type": "code",
   "execution_count": 43,
   "id": "cec1ffbb-1fac-487b-94cf-067046b2dcb8",
   "metadata": {},
   "outputs": [],
   "source": [
    "def one_hot_topk(inputs:np.array, n_topk:int)->np.array:\n",
    "    '''\n",
    "    encoding inputs(n, dim) to one_hot format(0 or 1) \n",
    "    threshod depends on quantile of topk for each sample\n",
    "    encoding : x = 1 if x > q_topk else 0\n",
    "    '''\n",
    "    assert len(inputs.shape)==2\n",
    "    n, dim = inputs.shape\n",
    "\n",
    "    # calculate quantile of topk for each sample. \n",
    "    q_topk = np.quantile(inputs, q=(dim-n_topk)/dim, axis=1)   # shape : (n,)\n",
    "    # broadcast quantile_topk from (n,) to (n, dim)\n",
    "    q_topk = np.repeat(q_topk.reshape(n,-1), dim, axis=1)     \n",
    "    # encoding : x = 1 if x > q_topk else 0\n",
    "    \n",
    "    inputs_one_hot_topk = np.where(inputs >= q_topk, 1, 0)\n",
    "\n",
    "    \n",
    "    return inputs_one_hot_topk\n"
   ]
  },
  {
   "cell_type": "code",
   "execution_count": 86,
   "id": "b7ffe5fa-17d3-4e3c-ba95-fa250779130d",
   "metadata": {},
   "outputs": [],
   "source": [
    "# taxon_unit = 'Genus' # 'Species' or 'Genus'\n",
    "taxon_unit = 'Genus'\n"
   ]
  },
  {
   "cell_type": "code",
   "execution_count": 87,
   "id": "cfef75ea-82c9-47b0-a51b-939b3fab1bae",
   "metadata": {},
   "outputs": [
    {
     "name": "stdout",
     "output_type": "stream",
     "text": [
      "(2295, 768)\n"
     ]
    }
   ],
   "source": [
    "\n",
    "# taxon_unit = 'Genus' # 'Species' or 'Genus'\n",
    "if taxon_unit == 'Genus':\n",
    "    grads_mean = grads_genus_mean\n",
    "elif taxon_unit == 'Species':\n",
    "    grads_mean = grads_sp_mean\n",
    "\n",
    "print(grads_mean.shape)"
   ]
  },
  {
   "cell_type": "code",
   "execution_count": 88,
   "id": "658655ae-d688-46d8-9b64-d961aceb62d2",
   "metadata": {},
   "outputs": [
    {
     "name": "stdout",
     "output_type": "stream",
     "text": [
      "(2295, 768)\n",
      "CPU times: user 152 ms, sys: 693 µs, total: 153 ms\n",
      "Wall time: 153 ms\n"
     ]
    }
   ],
   "source": [
    "%%time\n",
    "\n",
    "n_topk = 5\n",
    "grads_oh_topk = one_hot_topk(grads_mean, n_topk)\n",
    "print(grads_oh_topk.shape)\n",
    "\n",
    "# assert each sum of each dimension per data is equal to n_topk\n",
    "assert (np.sum(grads_oh_topk, axis=1) == n_topk).all(), f'Sum in dim {np.where(np.sum(grads_oh_topk, axis=1) != n_topk)[0]}  \\\n",
    "is not equal to n_topk' \n",
    "# assert sorted index of each dimension per data is of \"inputs\" is same as \"inputs_one_hot_topk\"\n",
    "assert (np.sort(np.argsort(grads_mean,)[:, -1 -(n_topk-1): ])  ==  \n",
    "    np.sort(np.argsort(grads_oh_topk)[:, -1 -(n_topk-1): ])).all()"
   ]
  },
  {
   "cell_type": "markdown",
   "id": "7f44ac32-d81d-4c19-a5d2-e534e89bab5b",
   "metadata": {},
   "source": [
    "\n",
    "\n",
    "####  Combine the key features of all families to obtain N-union key features\n",
    "算出每個科當中總得票最高的N個位置，即可選出 N 個重要特徵。最後將所有科的重要特徵取聯集，得到 N-union 個關鍵特徵。\n",
    "- 根據\"科-物種\"索引各科下各物種的top_n個重要維度\n",
    "- 將各物種的top_n個重要維度透投票加總(one_hot編碼後每個物種/屬1票)\n",
    "- 取得以科為單位的N-union重要維度\n",
    "- ~~one_hot 編碼 科為單位的N-union重要維度~~\n",
    "    - 排序各科前top_n重要維度(將投票數voting轉換為排序)\n",
    "    - x = 1 if x > 0 else 0\n",
    "- 儲存 對應的 top_n: index_N_union of Family\n",
    "    "
   ]
  },
  {
   "cell_type": "markdown",
   "id": "1c911346-d453-4dfe-999d-cc86c02e35dd",
   "metadata": {},
   "source": [
    "##### Voting on Family level"
   ]
  },
  {
   "cell_type": "code",
   "execution_count": 89,
   "id": "e914b6cc-0577-4c7a-a6ba-fa150ebfef47",
   "metadata": {},
   "outputs": [
    {
     "data": {
      "text/html": [
       "<div>\n",
       "<style scoped>\n",
       "    .dataframe tbody tr th:only-of-type {\n",
       "        vertical-align: middle;\n",
       "    }\n",
       "\n",
       "    .dataframe tbody tr th {\n",
       "        vertical-align: top;\n",
       "    }\n",
       "\n",
       "    .dataframe thead th {\n",
       "        text-align: right;\n",
       "    }\n",
       "</style>\n",
       "<table border=\"1\" class=\"dataframe\">\n",
       "  <thead>\n",
       "    <tr style=\"text-align: right;\">\n",
       "      <th></th>\n",
       "      <th>Family</th>\n",
       "      <th>Genus</th>\n",
       "    </tr>\n",
       "  </thead>\n",
       "  <tbody>\n",
       "    <tr>\n",
       "      <th>0</th>\n",
       "      <td>Acanthisittidae</td>\n",
       "      <td>Acanthisitta</td>\n",
       "    </tr>\n",
       "    <tr>\n",
       "      <th>1</th>\n",
       "      <td>Acanthisittidae</td>\n",
       "      <td>Xenicus</td>\n",
       "    </tr>\n",
       "    <tr>\n",
       "      <th>2</th>\n",
       "      <td>Acanthizidae</td>\n",
       "      <td>Acanthiza</td>\n",
       "    </tr>\n",
       "    <tr>\n",
       "      <th>3</th>\n",
       "      <td>Acanthizidae</td>\n",
       "      <td>Acanthornis</td>\n",
       "    </tr>\n",
       "    <tr>\n",
       "      <th>4</th>\n",
       "      <td>Acanthizidae</td>\n",
       "      <td>Aphelocephala</td>\n",
       "    </tr>\n",
       "    <tr>\n",
       "      <th>...</th>\n",
       "      <td>...</td>\n",
       "      <td>...</td>\n",
       "    </tr>\n",
       "    <tr>\n",
       "      <th>2290</th>\n",
       "      <td>Zosteropidae</td>\n",
       "      <td>Sterrhoptilus</td>\n",
       "    </tr>\n",
       "    <tr>\n",
       "      <th>2291</th>\n",
       "      <td>Zosteropidae</td>\n",
       "      <td>Tephrozosterops</td>\n",
       "    </tr>\n",
       "    <tr>\n",
       "      <th>2292</th>\n",
       "      <td>Zosteropidae</td>\n",
       "      <td>Yuhina</td>\n",
       "    </tr>\n",
       "    <tr>\n",
       "      <th>2293</th>\n",
       "      <td>Zosteropidae</td>\n",
       "      <td>Zosterops</td>\n",
       "    </tr>\n",
       "    <tr>\n",
       "      <th>2294</th>\n",
       "      <td>Zosteropidae</td>\n",
       "      <td>Zosterornis</td>\n",
       "    </tr>\n",
       "  </tbody>\n",
       "</table>\n",
       "<p>2295 rows × 2 columns</p>\n",
       "</div>"
      ],
      "text/plain": [
       "               Family            Genus\n",
       "0     Acanthisittidae     Acanthisitta\n",
       "1     Acanthisittidae          Xenicus\n",
       "2        Acanthizidae        Acanthiza\n",
       "3        Acanthizidae      Acanthornis\n",
       "4        Acanthizidae    Aphelocephala\n",
       "...               ...              ...\n",
       "2290     Zosteropidae    Sterrhoptilus\n",
       "2291     Zosteropidae  Tephrozosterops\n",
       "2292     Zosteropidae           Yuhina\n",
       "2293     Zosteropidae        Zosterops\n",
       "2294     Zosteropidae      Zosterornis\n",
       "\n",
       "[2295 rows x 2 columns]"
      ]
     },
     "execution_count": 89,
     "metadata": {},
     "output_type": "execute_result"
    }
   ],
   "source": [
    "if taxon_unit == 'Genus':\n",
    "    family_index = (df_meta[mask_label_positive].groupby(['Family', 'Genus']).count().query('ML_Catalog_Number>0').reset_index()[['Family', 'Genus']]) \n",
    "elif taxon_unit == 'Species':\n",
    "    family_index = (df_meta[mask_label_positive].groupby(['Family', 'Label']).count().query('ML_Catalog_Number>0').reset_index()[['Family', 'Label']]) \n",
    "# elif taxon_unit == 'Species':\n",
    "    # family_index = (df_meta.groupby(['family', 'Sci_Name']).count().reset_index()[['family', 'Sci_Name']])\n",
    "family_index"
   ]
  },
  {
   "cell_type": "code",
   "execution_count": 90,
   "id": "d6bcb8ac-4641-4c1c-84e7-1b557723bd30",
   "metadata": {},
   "outputs": [
    {
     "name": "stdout",
     "output_type": "stream",
     "text": [
      "248. shape : (249, 768) | Family : Zosteropidae         \n",
      " (249, 768)\n",
      "CPU times: user 272 ms, sys: 10.8 ms, total: 283 ms\n",
      "Wall time: 269 ms\n"
     ]
    },
    {
     "data": {
      "text/plain": [
       "array([[0, 0, 0, ..., 0, 1, 0],\n",
       "       [0, 0, 0, ..., 0, 0, 0],\n",
       "       [0, 0, 0, ..., 1, 0, 0],\n",
       "       ...,\n",
       "       [0, 1, 1, ..., 1, 0, 0],\n",
       "       [0, 0, 0, ..., 0, 0, 0],\n",
       "       [0, 0, 0, ..., 0, 0, 0]])"
      ]
     },
     "execution_count": 90,
     "metadata": {},
     "output_type": "execute_result"
    }
   ],
   "source": [
    "%%time\n",
    "# Voting on Family level to get the key features of all families  \n",
    "# n, dim = grads_mean_topk.shape\n",
    "def get_voting_family(grads_oh_topk:np.ndarray=None): \n",
    "    for i, family_ in enumerate(family_index.Family.unique()):\n",
    "        index_fm = family_index.query(\"Family == @family_\").index.values\n",
    "        voting_family_ = np.sum(grads_oh_topk[index_fm], axis=0, keepdims=True)  # (1, dim)\n",
    "        # assert voting_family_.size ==  dim      # dim \n",
    "\n",
    "        voting_family = voting_family_ if i==0 else np.concatenate([voting_family_, voting_family])\n",
    "\n",
    "        print(f'{i:3,d}. shape : {voting_family.shape} | Family : {family_:20s} ', end='\\r')\n",
    "    return voting_family\n",
    "\n",
    "voting_family = get_voting_family(grads_oh_topk)\n",
    "print('\\n', voting_family.shape)\n",
    "voting_family "
   ]
  },
  {
   "cell_type": "markdown",
   "id": "54093b6b-32a7-4986-9c75-420357f266ab",
   "metadata": {},
   "source": [
    "- Calculate the n_topk positions with the highest total votes in each Family  \n",
    "算出每個科當中總得票最高的N個位置"
   ]
  },
  {
   "cell_type": "code",
   "execution_count": 91,
   "id": "5ee9a3b2-da86-452c-a0e1-a7f148e1d884",
   "metadata": {},
   "outputs": [
    {
     "name": "stdout",
     "output_type": "stream",
     "text": [
      "(249, 5)\n"
     ]
    }
   ],
   "source": [
    "index_ = np.argsort(voting_family, axis=1)[:, -n_topk:]\n",
    "print(index_.shape)"
   ]
  },
  {
   "cell_type": "code",
   "execution_count": 92,
   "id": "271ffc01-a710-4141-a07b-36499574768d",
   "metadata": {},
   "outputs": [
    {
     "ename": "AssertionError",
     "evalue": "Sum in dim : [  0   2   3   4   7   8   9  11  12  13  15  16  17  19  20  21  22  24\n  25  26  28  29  31  34  37  39  40  43  46  47  50  51  52  53  54  55\n  56  57  58  59  61  62  65  67  68  69  73  74  77  78  79  82  83  84\n  85  86  88  90  91  94  95  96  97  99 100 103 104 105 107 108 110 111\n 113 118 119 120 121 122 123 126 127 128 129 130 132 134 136 137 138 139\n 140 142 143 145 146 147 148 150 153 159 161 163 164 165 167 168 169 171\n 175 178 184 186 188 189 190 191 192 193 194 195 196 198 200 202 205 207\n 208 209 210 211 212 213 214 216 217 218 219 220 223 224 225 227 230 231\n 237 238 239 240 241 244 245 246 247 248]  is not equal to n_topk",
     "output_type": "error",
     "traceback": [
      "\u001b[0;31m---------------------------------------------------------------------------\u001b[0m",
      "\u001b[0;31mAssertionError\u001b[0m                            Traceback (most recent call last)",
      "\u001b[0;32m/tmp/ipykernel_2106279/3473517268.py\u001b[0m in \u001b[0;36m<module>\u001b[0;34m\u001b[0m\n\u001b[1;32m      2\u001b[0m \u001b[0;34m\u001b[0m\u001b[0m\n\u001b[1;32m      3\u001b[0m \u001b[0;31m# assert each sum of each dimension per data is equal to n_topk\u001b[0m\u001b[0;34m\u001b[0m\u001b[0;34m\u001b[0m\u001b[0m\n\u001b[0;32m----> 4\u001b[0;31m \u001b[0;32massert\u001b[0m \u001b[0;34m(\u001b[0m\u001b[0mnp\u001b[0m\u001b[0;34m.\u001b[0m\u001b[0msum\u001b[0m\u001b[0;34m(\u001b[0m\u001b[0mvoting_Fmy_oh_topk\u001b[0m\u001b[0;34m,\u001b[0m \u001b[0maxis\u001b[0m\u001b[0;34m=\u001b[0m\u001b[0;36m1\u001b[0m\u001b[0;34m)\u001b[0m \u001b[0;34m==\u001b[0m \u001b[0mn_topk\u001b[0m\u001b[0;34m)\u001b[0m\u001b[0;34m.\u001b[0m\u001b[0mall\u001b[0m\u001b[0;34m(\u001b[0m\u001b[0;34m)\u001b[0m\u001b[0;34m,\u001b[0m \u001b[0mf\u001b[0m\u001b[0;31m'\u001b[0m\u001b[0mSum\u001b[0m \u001b[0;32min\u001b[0m \u001b[0mdim\u001b[0m \u001b[0;34m:\u001b[0m \u001b[0;34m{\u001b[0m\u001b[0mnp\u001b[0m\u001b[0;34m.\u001b[0m\u001b[0mwhere\u001b[0m\u001b[0;34m(\u001b[0m\u001b[0mnp\u001b[0m\u001b[0;34m.\u001b[0m\u001b[0msum\u001b[0m\u001b[0;34m(\u001b[0m\u001b[0mvoting_Fmy_oh_topk\u001b[0m\u001b[0;34m,\u001b[0m \u001b[0maxis\u001b[0m\u001b[0;34m=\u001b[0m\u001b[0;36m1\u001b[0m\u001b[0;34m)\u001b[0m \u001b[0;34m!=\u001b[0m \u001b[0mn_topk\u001b[0m\u001b[0;34m)\u001b[0m\u001b[0;34m[\u001b[0m\u001b[0;36m0\u001b[0m\u001b[0;34m]\u001b[0m\u001b[0;34m}\u001b[0m\u001b[0;31m \u001b[0m\u001b[0;31m \u001b[0m\u001b[0;31m\\\u001b[0m\u001b[0;34m\u001b[0m\u001b[0;34m\u001b[0m\u001b[0m\n\u001b[0m\u001b[1;32m      5\u001b[0m \u001b[0;32mis\u001b[0m \u001b[0;32mnot\u001b[0m \u001b[0mequal\u001b[0m \u001b[0mto\u001b[0m \u001b[0mn_topk\u001b[0m\u001b[0;31m'\u001b[0m\u001b[0;34m\u001b[0m\u001b[0;34m\u001b[0m\u001b[0m\n\u001b[1;32m      6\u001b[0m \u001b[0;31m# assert sorted index of each dimension per data is of \"inputs\" is same as \"inputs_one_hot_topk\"\u001b[0m\u001b[0;34m\u001b[0m\u001b[0;34m\u001b[0m\u001b[0m\n",
      "\u001b[0;31mAssertionError\u001b[0m: Sum in dim : [  0   2   3   4   7   8   9  11  12  13  15  16  17  19  20  21  22  24\n  25  26  28  29  31  34  37  39  40  43  46  47  50  51  52  53  54  55\n  56  57  58  59  61  62  65  67  68  69  73  74  77  78  79  82  83  84\n  85  86  88  90  91  94  95  96  97  99 100 103 104 105 107 108 110 111\n 113 118 119 120 121 122 123 126 127 128 129 130 132 134 136 137 138 139\n 140 142 143 145 146 147 148 150 153 159 161 163 164 165 167 168 169 171\n 175 178 184 186 188 189 190 191 192 193 194 195 196 198 200 202 205 207\n 208 209 210 211 212 213 214 216 217 218 219 220 223 224 225 227 230 231\n 237 238 239 240 241 244 245 246 247 248]  is not equal to n_topk"
     ]
    }
   ],
   "source": [
    "voting_Fmy_oh_topk = one_hot_topk(voting_family, n_topk)\n",
    "\n",
    "# assert each sum of each dimension per data is equal to n_topk\n",
    "assert (np.sum(voting_Fmy_oh_topk, axis=1) == n_topk).all(), f'Sum in dim : {np.where(np.sum(voting_Fmy_oh_topk, axis=1) != n_topk)[0]}  \\\n",
    "is not equal to n_topk' \n",
    "# assert sorted index of each dimension per data is of \"inputs\" is same as \"inputs_one_hot_topk\"\n",
    "assert (np.sort(np.argsort(voting_family,)[:, -1 -(n_topk-1): ])  ==  \n",
    "    np.sort(np.argsort(voting_Fmy_oh_topk)[:, -1 -(n_topk-1): ])).all()"
   ]
  },
  {
   "cell_type": "markdown",
   "id": "cd68f907-8a1e-4e77-9ccd-f463817b2185",
   "metadata": {},
   "source": [
    "#### Get the combination of topk - N_union"
   ]
  },
  {
   "cell_type": "code",
   "execution_count": 93,
   "id": "2616b483-2bcf-4aa1-90d6-16fbe0c2a0b2",
   "metadata": {},
   "outputs": [
    {
     "name": "stdout",
     "output_type": "stream",
     "text": [
      "896195 768\n",
      "(2295, 768)\n",
      "CPU times: user 15.5 s, sys: 605 ms, total: 16.1 s      \n",
      "Wall time: 15.5 s\n"
     ]
    },
    {
     "name": "stderr",
     "output_type": "stream",
     "text": [
      "<timed exec>:37: VisibleDeprecationWarning: Creating an ndarray from ragged nested sequences (which is a list-or-tuple of lists-or-tuples-or ndarrays with different lengths or shapes) is deprecated. If you meant to do this, you must specify 'dtype=object' when creating the ndarray.\n"
     ]
    }
   ],
   "source": [
    "%%time\n",
    "topks = range(1 ,51)\n",
    "\n",
    "n, dim = rel_grads.shape\n",
    "print(n, dim)\n",
    "\n",
    "\n",
    "if taxon_unit == 'Genus':\n",
    "    grads_mean = grads_genus_mean\n",
    "elif taxon_unit == 'Species':\n",
    "    grads_mean = grads_sp_mean\n",
    "\n",
    "print(grads_mean.shape)\n",
    "\n",
    "# filter positive grads\n",
    "# grads_mean_pos = np.clip(grads_mean , 0, None) # transform negative grads to 0\n",
    "\n",
    "index_n_unions = []\n",
    "for i, topk_ in enumerate(topks) :\n",
    "    \n",
    "    # transform grads to voting value on sp or genus level, sort by values\n",
    "    grads_oh_topk = one_hot_topk(grads_mean, topk_)  \n",
    "    # voting result at Family level\n",
    "    voting_family = get_voting_family(grads_oh_topk)  \n",
    "    # transform voting result according topk\n",
    "    voting_Fmy_oh_topk = one_hot_topk(voting_family, topk_) \n",
    "    # sum the voting results on eaeh diemnsion\n",
    "    features_topk_families_voting = np.sum(voting_Fmy_oh_topk ,axis=0)  \n",
    "    \n",
    "    # get union of voting result\n",
    "    index_ = np.where(features_topk_families_voting > 0)[0]         # get union from all dimension which voting greater than 0                 \n",
    "    index_n_union_ = np.where(index_ > dim, index_ - dim, index_)   # unstack dimensions from 'dim + dim' to dim  \n",
    "    index_n_union_ = np.unique(index_n_union_)                      # remove duplicated dimensions\n",
    "    \n",
    "    index_n_unions.append(index_n_union_)\n",
    "    print(i, topk_, end='\\r')\n",
    "index_n_unions = np.asanyarray(index_n_unions)"
   ]
  },
  {
   "cell_type": "code",
   "execution_count": 94,
   "id": "27119df8-d27f-4609-bfdb-302c23ebae8b",
   "metadata": {},
   "outputs": [],
   "source": [
    "\n",
    "file_ = f'index_n_unions_rel_grads_{taxon_unit}.npy'\n",
    "np.save(path_embeddings/file_, index_n_unions)\n",
    "index_n_unions = np.load(path_embeddings/file_ , allow_pickle=True)\n"
   ]
  },
  {
   "cell_type": "code",
   "execution_count": null,
   "id": "93da749a-1359-4bf8-8057-7e3076bd152d",
   "metadata": {},
   "outputs": [],
   "source": [
    "index_n_unions"
   ]
  },
  {
   "cell_type": "code",
   "execution_count": 95,
   "id": "1fdb003f-28bc-4e0f-a571-87b5262da744",
   "metadata": {},
   "outputs": [
    {
     "data": {
      "text/plain": [
       "<AxesSubplot:title={'center':'Combination of topk - N_union_Genus'}, xlabel='topk', ylabel='n_unions'>"
      ]
     },
     "execution_count": 95,
     "metadata": {},
     "output_type": "execute_result"
    },
    {
     "data": {
      "image/png": "[encoded data removed]",
      "text/plain": [
       "<Figure size 864x288 with 1 Axes>"
      ]
     },
     "metadata": {
      "needs_background": "light"
     },
     "output_type": "display_data"
    }
   ],
   "source": [
    "n_unions_  = [len(idxs_) for idxs_ in index_n_unions]\n",
    "title = f\"Combination of topk - N_union_{taxon_unit}\"\n",
    "figsize = (12,4)\n",
    "\n",
    "df_Nuniun = pd.DataFrame(n_unions_, index=range(1, len(n_unions_)+1), columns=['n_unions'] )\n",
    "(df_Nuniun[:10].plot(xlabel=\"topk\", ylabel=\"n_unions\", \n",
    "                     grid=True, title=title, figsize=figsize )\n",
    ")"
   ]
  },
  {
   "cell_type": "code",
   "execution_count": 96,
   "id": "2a676655-6046-4938-81a1-0c86973fd246",
   "metadata": {},
   "outputs": [
    {
     "data": {
      "text/html": [
       "<div>\n",
       "<style scoped>\n",
       "    .dataframe tbody tr th:only-of-type {\n",
       "        vertical-align: middle;\n",
       "    }\n",
       "\n",
       "    .dataframe tbody tr th {\n",
       "        vertical-align: top;\n",
       "    }\n",
       "\n",
       "    .dataframe thead th {\n",
       "        text-align: right;\n",
       "    }\n",
       "</style>\n",
       "<table border=\"1\" class=\"dataframe\">\n",
       "  <thead>\n",
       "    <tr style=\"text-align: right;\">\n",
       "      <th></th>\n",
       "      <th>n_unions</th>\n",
       "    </tr>\n",
       "  </thead>\n",
       "  <tbody>\n",
       "    <tr>\n",
       "      <th>1</th>\n",
       "      <td>574</td>\n",
       "    </tr>\n",
       "    <tr>\n",
       "      <th>2</th>\n",
       "      <td>703</td>\n",
       "    </tr>\n",
       "    <tr>\n",
       "      <th>3</th>\n",
       "      <td>733</td>\n",
       "    </tr>\n",
       "    <tr>\n",
       "      <th>4</th>\n",
       "      <td>744</td>\n",
       "    </tr>\n",
       "    <tr>\n",
       "      <th>5</th>\n",
       "      <td>753</td>\n",
       "    </tr>\n",
       "    <tr>\n",
       "      <th>6</th>\n",
       "      <td>758</td>\n",
       "    </tr>\n",
       "    <tr>\n",
       "      <th>7</th>\n",
       "      <td>758</td>\n",
       "    </tr>\n",
       "    <tr>\n",
       "      <th>8</th>\n",
       "      <td>761</td>\n",
       "    </tr>\n",
       "    <tr>\n",
       "      <th>9</th>\n",
       "      <td>764</td>\n",
       "    </tr>\n",
       "    <tr>\n",
       "      <th>10</th>\n",
       "      <td>765</td>\n",
       "    </tr>\n",
       "  </tbody>\n",
       "</table>\n",
       "</div>"
      ],
      "text/plain": [
       "    n_unions\n",
       "1        574\n",
       "2        703\n",
       "3        733\n",
       "4        744\n",
       "5        753\n",
       "6        758\n",
       "7        758\n",
       "8        761\n",
       "9        764\n",
       "10       765"
      ]
     },
     "execution_count": 96,
     "metadata": {},
     "output_type": "execute_result"
    }
   ],
   "source": [
    "df_Nuniun = pd.DataFrame(n_unions_, index=range(1, len(n_unions_)+1), columns=['n_unions'] )\n",
    "df_Nuniun[:10] \n"
   ]
  },
  {
   "cell_type": "markdown",
   "id": "02151160-7134-4e43-9c9b-7fa9ef089c3b",
   "metadata": {},
   "source": [
    "#### NOTE\n",
    "-  tok=1 時，\tn_unions才小於100\n",
    "    -   tok=1, n_unions=74 (9.63%)"
   ]
  },
  {
   "cell_type": "markdown",
   "id": "538a1420-cc66-4ee9-8ace-630f8a3830dd",
   "metadata": {},
   "source": [
    "---"
   ]
  },
  {
   "cell_type": "markdown",
   "id": "212982d3-f1d5-4572-801e-e39e3f16979f",
   "metadata": {},
   "source": [
    "### Clustering performance evaluation"
   ]
  },
  {
   "cell_type": "code",
   "execution_count": 97,
   "id": "4bcc099d-bc27-4520-99c7-e5066d1ce46b",
   "metadata": {},
   "outputs": [],
   "source": [
    "def get_Nunion_features (features=None, n=None, index_n_unions=index_n_unions):\n",
    "    index = index_n_unions[n]\n",
    "    _, dim = features.shape\n",
    "    mask = ~np.isin(np.arange(dim), index)  # Filtering out non-critical dimensions by reverse selection   \n",
    "    index_inverse = np.arange(dim)[mask]\n",
    "    \n",
    "    features_ = features.copy()             #  Recopy features_ every time, otherwise the original data will be overwritten\n",
    "    features_[:, index_inverse] = 0         # Freeze the value of the dimension that is not selected to 0\n",
    "    return features_"
   ]
  },
  {
   "cell_type": "code",
   "execution_count": 98,
   "id": "df21a38b-e3a0-42cc-8808-964d9d41e4e9",
   "metadata": {},
   "outputs": [],
   "source": [
    "n_range = np.arange(10)"
   ]
  },
  {
   "cell_type": "code",
   "execution_count": 99,
   "id": "297dafef-058c-4cda-a046-24511f2bfcb2",
   "metadata": {},
   "outputs": [
    {
     "name": "stdout",
     "output_type": "stream",
     "text": [
      "CPU times: user 50.1 s, sys: 36.1 s, total: 1min 26s\n",
      "Wall time: 1min 28s\n"
     ]
    }
   ],
   "source": [
    "%%time\n",
    "# larger is better. The score is higher when clusters are dense and well separated\n",
    "ch_scores = []\n",
    "for n in n_range:\n",
    "    features_ = get_Nunion_features (features=embeddings[mask_label_positive], n=n, index_n_unions=index_n_unions)\n",
    "    score = metrics.calinski_harabasz_score(features_, df_meta[mask_label_positive].Family)\n",
    "    ch_scores.append(score) \n",
    "    print(f'topk : {n}, score : {score:.3f}', end='\\r')"
   ]
  },
  {
   "cell_type": "code",
   "execution_count": 100,
   "id": "d0de40f4-30a0-4e25-9e5b-95dfa22f6996",
   "metadata": {},
   "outputs": [
    {
     "name": "stdout",
     "output_type": "stream",
     "text": [
      "CPU times: user 21min 6s, sys: 51min 35s, total: 1h 12min 41s\n",
      "Wall time: 1min 49s\n"
     ]
    }
   ],
   "source": [
    "%%time\n",
    "# Closer Zero is better. Zero is the lowest possible score. Values closer to zero indicate a better partition.\n",
    "db_scores = []\n",
    "for n in n_range:\n",
    "    features_ = get_Nunion_features (features=embeddings[mask_label_positive], n=n, index_n_unions=index_n_unions)\n",
    "    score = metrics.davies_bouldin_score(features_, df_meta[mask_label_positive].Family)\n",
    "    db_scores.append(score) \n",
    "    print(f'topk : {n}, score : {score:.3f}', end='\\r')"
   ]
  },
  {
   "cell_type": "code",
   "execution_count": null,
   "id": "095cff45-e6b3-4c4f-8044-c809379edb53",
   "metadata": {},
   "outputs": [
    {
     "name": "stdout",
     "output_type": "stream",
     "text": [
      "topk : 0, score : -0.087\r"
     ]
    }
   ],
   "source": [
    "%%time\n",
    "# larger is better. The best value is 1 and the worst value is -1. Values near 0 indicate overlapping clusters\n",
    " \n",
    "sil_scores = []\n",
    "for n in n_range:\n",
    "    features_ = get_Nunion_features (features=embeddings[mask_label_positive], n=n, index_n_unions=index_n_unions)\n",
    "    score = metrics.silhouette_score(features_, df_meta[mask_label_positive].Family)\n",
    "    sil_scores += score\n",
    "    print(f'topk : {n}, score : {score:.3f}', end='\\r')"
   ]
  },
  {
   "cell_type": "code",
   "execution_count": 103,
   "id": "3423c1a4-10cf-476a-b3f5-6e73be4c1f7f",
   "metadata": {},
   "outputs": [
    {
     "name": "stderr",
     "output_type": "stream",
     "text": [
      "/tmp/ipykernel_2106279/2835604320.py:4: VisibleDeprecationWarning: Creating an ndarray from ragged nested sequences (which is a list-or-tuple of lists-or-tuples-or ndarrays with different lengths or shapes) is deprecated. If you meant to do this, you must specify 'dtype=object' when creating the ndarray.\n",
      "  metric_score = (pd.DataFrame(np.array(data).T,\n"
     ]
    },
    {
     "ename": "ValueError",
     "evalue": "Shape of passed values is (3, 1), indices imply (10, 3)",
     "output_type": "error",
     "traceback": [
      "\u001b[0;31m---------------------------------------------------------------------------\u001b[0m",
      "\u001b[0;31mValueError\u001b[0m                                Traceback (most recent call last)",
      "\u001b[0;32m/tmp/ipykernel_2106279/2835604320.py\u001b[0m in \u001b[0;36m<module>\u001b[0;34m\u001b[0m\n\u001b[1;32m      2\u001b[0m         \u001b[0msil_scores\u001b[0m\u001b[0;34m\u001b[0m\u001b[0;34m\u001b[0m\u001b[0m\n\u001b[1;32m      3\u001b[0m        ]\n\u001b[0;32m----> 4\u001b[0;31m metric_score = (pd.DataFrame(np.array(data).T,\n\u001b[0m\u001b[1;32m      5\u001b[0m                              \u001b[0mindex\u001b[0m\u001b[0;34m=\u001b[0m\u001b[0mn_range\u001b[0m\u001b[0;34m,\u001b[0m\u001b[0;34m\u001b[0m\u001b[0;34m\u001b[0m\u001b[0m\n\u001b[1;32m      6\u001b[0m                              columns=[\"calinski_harabasz\", \"davies_bouldin\", \n",
      "\u001b[0;32m~/anaconda3/envs/mae/lib/python3.9/site-packages/pandas/core/frame.py\u001b[0m in \u001b[0;36m__init__\u001b[0;34m(self, data, index, columns, dtype, copy)\u001b[0m\n\u001b[1;32m    692\u001b[0m                 )\n\u001b[1;32m    693\u001b[0m             \u001b[0;32melse\u001b[0m\u001b[0;34m:\u001b[0m\u001b[0;34m\u001b[0m\u001b[0;34m\u001b[0m\u001b[0m\n\u001b[0;32m--> 694\u001b[0;31m                 mgr = ndarray_to_mgr(\n\u001b[0m\u001b[1;32m    695\u001b[0m                     \u001b[0mdata\u001b[0m\u001b[0;34m,\u001b[0m\u001b[0;34m\u001b[0m\u001b[0;34m\u001b[0m\u001b[0m\n\u001b[1;32m    696\u001b[0m                     \u001b[0mindex\u001b[0m\u001b[0;34m,\u001b[0m\u001b[0;34m\u001b[0m\u001b[0;34m\u001b[0m\u001b[0m\n",
      "\u001b[0;32m~/anaconda3/envs/mae/lib/python3.9/site-packages/pandas/core/internals/construction.py\u001b[0m in \u001b[0;36mndarray_to_mgr\u001b[0;34m(values, index, columns, dtype, copy, typ)\u001b[0m\n\u001b[1;32m    349\u001b[0m     )\n\u001b[1;32m    350\u001b[0m \u001b[0;34m\u001b[0m\u001b[0m\n\u001b[0;32m--> 351\u001b[0;31m     \u001b[0m_check_values_indices_shape_match\u001b[0m\u001b[0;34m(\u001b[0m\u001b[0mvalues\u001b[0m\u001b[0;34m,\u001b[0m \u001b[0mindex\u001b[0m\u001b[0;34m,\u001b[0m \u001b[0mcolumns\u001b[0m\u001b[0;34m)\u001b[0m\u001b[0;34m\u001b[0m\u001b[0;34m\u001b[0m\u001b[0m\n\u001b[0m\u001b[1;32m    352\u001b[0m \u001b[0;34m\u001b[0m\u001b[0m\n\u001b[1;32m    353\u001b[0m     \u001b[0;32mif\u001b[0m \u001b[0mtyp\u001b[0m \u001b[0;34m==\u001b[0m \u001b[0;34m\"array\"\u001b[0m\u001b[0;34m:\u001b[0m\u001b[0;34m\u001b[0m\u001b[0;34m\u001b[0m\u001b[0m\n",
      "\u001b[0;32m~/anaconda3/envs/mae/lib/python3.9/site-packages/pandas/core/internals/construction.py\u001b[0m in \u001b[0;36m_check_values_indices_shape_match\u001b[0;34m(values, index, columns)\u001b[0m\n\u001b[1;32m    420\u001b[0m         \u001b[0mpassed\u001b[0m \u001b[0;34m=\u001b[0m \u001b[0mvalues\u001b[0m\u001b[0;34m.\u001b[0m\u001b[0mshape\u001b[0m\u001b[0;34m\u001b[0m\u001b[0;34m\u001b[0m\u001b[0m\n\u001b[1;32m    421\u001b[0m         \u001b[0mimplied\u001b[0m \u001b[0;34m=\u001b[0m \u001b[0;34m(\u001b[0m\u001b[0mlen\u001b[0m\u001b[0;34m(\u001b[0m\u001b[0mindex\u001b[0m\u001b[0;34m)\u001b[0m\u001b[0;34m,\u001b[0m \u001b[0mlen\u001b[0m\u001b[0;34m(\u001b[0m\u001b[0mcolumns\u001b[0m\u001b[0;34m)\u001b[0m\u001b[0;34m)\u001b[0m\u001b[0;34m\u001b[0m\u001b[0;34m\u001b[0m\u001b[0m\n\u001b[0;32m--> 422\u001b[0;31m         \u001b[0;32mraise\u001b[0m \u001b[0mValueError\u001b[0m\u001b[0;34m(\u001b[0m\u001b[0;34mf\"Shape of passed values is {passed}, indices imply {implied}\"\u001b[0m\u001b[0;34m)\u001b[0m\u001b[0;34m\u001b[0m\u001b[0;34m\u001b[0m\u001b[0m\n\u001b[0m\u001b[1;32m    423\u001b[0m \u001b[0;34m\u001b[0m\u001b[0m\n\u001b[1;32m    424\u001b[0m \u001b[0;34m\u001b[0m\u001b[0m\n",
      "\u001b[0;31mValueError\u001b[0m: Shape of passed values is (3, 1), indices imply (10, 3)"
     ]
    }
   ],
   "source": [
    "data = [ch_scores, db_scores, \n",
    "        sil_scores\n",
    "       ]\n",
    "metric_score = (pd.DataFrame(np.array(data).T,\n",
    "                             index=n_range,\n",
    "                             columns=[\"calinski_harabasz\", \"davies_bouldin\", \n",
    "                                      \"Silhouette\"\n",
    "                                     ])\n",
    "                # .reset_index().rename(columns={'index':'topk'})\n",
    "               )\n",
    "# metric_score.topk = metric_score.topk + 1\n",
    "metric_score.index = df_Nuniun.n_unions[:len(n_range)].values\n",
    "\n",
    "file_ = f'clustering_metric_score_features_rel_grads_{taxon_unit}.csv'\n",
    "# metric_score.to_csv(f'meta/{file_}')\n",
    "metric_score = pd.read_csv(f'meta/{file_}', header=[0], index_col=0)\n",
    "metric_score[:5]"
   ]
  },
  {
   "cell_type": "code",
   "execution_count": 84,
   "id": "0d672a7d-b897-46a4-adbb-66ac0be50802",
   "metadata": {},
   "outputs": [
    {
     "name": "stdout",
     "output_type": "stream",
     "text": [
      "best topk : 1, N_uniun 406\n",
      "Clustering Eval Score : 1.700\n"
     ]
    },
    {
     "data": {
      "image/png": "[encoded data removed]",
      "text/plain": [
       "<Figure size 864x144 with 1 Axes>"
      ]
     },
     "metadata": {
      "needs_background": "light"
     },
     "output_type": "display_data"
    }
   ],
   "source": [
    " #　將三個metric標準化處理，取值在0~1。\n",
    "metric_score.davies_bouldin = metric_score.davies_bouldin*-1  # davies_bouldin為越小越佳，因此先乘上負號\n",
    "metric_score_ = (metric_score -  metric_score.min()) / (metric_score.max() -  metric_score.min())\n",
    "# idx = pd.IndexSlice\n",
    "# metric_score_.loc[:, idx[:, \"2D\"]].sum(axis=1)\n",
    "# metric_score_.loc[:, idx[:, \"3D\"]].sum(axis=1)\n",
    "metric_score_merge = metric_score_.sum(axis=1)\n",
    "best_topk =  metric_score_merge.argmax() + 1\n",
    "print(f\"best topk : {best_topk}, N_uniun {metric_score_merge.idxmax()}\")  # 檢視分群最佳結果的 N_union\n",
    "print(f\"Clustering Eval Score : {metric_score_merge.max():.3f}\")\n",
    "\n",
    "figsize=(12, 2); marker=\".\"; lw = 2\n",
    "title = \"Clustering_Score_Merge\"\n",
    "title += f\"\\ntopk : {best_topk},  N_uniun :  {metric_score_merge.idxmax()}\"\n",
    "metric_score_merge.plot(title=title , grid=True, figsize=figsize, lw=lw, marker=marker, xlabel='N_uniun', ylabel='Score');         # 三個指標標準化後加總\n",
    "\n",
    "# metric_score.silhouette.plot(title=\"Silhouette_Score\",grid=True, figsize=figsize, lw=lw, marker=marker);"
   ]
  },
  {
   "cell_type": "code",
   "execution_count": 281,
   "id": "bfbf841d-3ab4-4390-ac3e-a020b033712c",
   "metadata": {},
   "outputs": [
    {
     "data": {
      "image/png": "[encoded data removed]",
      "text/plain": [
       "<Figure size 864x144 with 1 Axes>"
      ]
     },
     "metadata": {
      "needs_background": "light"
     },
     "output_type": "display_data"
    }
   ],
   "source": [
    "# The score is higher when clusters are dense and well separated\n",
    "metric_score.calinski_harabasz.plot(title=\"Calinski_Harabasz_Score\",grid=True, figsize=figsize, lw=lw, marker=marker);"
   ]
  },
  {
   "cell_type": "code",
   "execution_count": 275,
   "id": "4908997e-9eeb-4c7e-8321-7bb76d25364c",
   "metadata": {},
   "outputs": [
    {
     "data": {
      "image/png": "[encoded data removed]",
      "text/plain": [
       "<Figure size 864x144 with 1 Axes>"
      ]
     },
     "metadata": {
      "needs_background": "light"
     },
     "output_type": "display_data"
    }
   ],
   "source": [
    "# Zero is the lowest possible score. Values closer to zero indicate a better partition.\n",
    "metric_score.davies_bouldin.plot(title=\"Davies_Bouldin_Score\",grid=True, figsize=figsize, lw=lw, marker=marker);"
   ]
  },
  {
   "cell_type": "markdown",
   "id": "e93cb661-2287-4664-9fd1-bbd203c8baac",
   "metadata": {},
   "source": [
    "##### Note about Clustering performance evaluation:\n",
    "- topk=4，N-union=258時，有最佳的科分群分數(1.66)，約為總特徵數的 33.59% (258/768)\n",
    "- 分群評估方法中，由於silhouette_score太過費時，因此本次未納入\n",
    "- 作圖檢視，clustering結果與metric_score分數一致，並不是使用越多特徵、分群效果就越明顯 "
   ]
  },
  {
   "cell_type": "markdown",
   "id": "97294eb5-947b-469e-98e5-97d60086769a",
   "metadata": {},
   "source": [
    "# Understanding the visual significance of key features"
   ]
  },
  {
   "cell_type": "code",
   "execution_count": null,
   "id": "9cb53ccc-b1a8-4f5d-95f7-76dc745456f6",
   "metadata": {},
   "outputs": [],
   "source": []
  }
 ],
 "metadata": {
  "kernelspec": {
   "display_name": "Python [conda env:mae]",
   "language": "python",
   "name": "conda-env-mae-py"
  },
  "language_info": {
   "codemirror_mode": {
    "name": "ipython",
    "version": 3
   },
   "file_extension": ".py",
   "mimetype": "text/x-python",
   "name": "python",
   "nbconvert_exporter": "python",
   "pygments_lexer": "ipython3",
   "version": "3.9.7"
  }
 },
 "nbformat": 4,
 "nbformat_minor": 5
}
